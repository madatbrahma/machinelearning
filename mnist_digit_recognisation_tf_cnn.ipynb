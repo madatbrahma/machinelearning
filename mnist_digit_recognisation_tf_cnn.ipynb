{
 "cells": [
  {
   "cell_type": "markdown",
   "metadata": {},
   "source": [
    "<h2> This notebook uses CNN from tf to implement digit recognisation of mnist data sets.\n"
   ]
  },
  {
   "cell_type": "code",
   "execution_count": 1,
   "metadata": {},
   "outputs": [],
   "source": [
    "import tensorflow as tf\n"
   ]
  },
  {
   "cell_type": "code",
   "execution_count": 2,
   "metadata": {},
   "outputs": [],
   "source": [
    "from tensorflow.examples.tutorials.mnist import input_data"
   ]
  },
  {
   "cell_type": "code",
   "execution_count": 3,
   "metadata": {},
   "outputs": [
    {
     "name": "stdout",
     "output_type": "stream",
     "text": [
      "WARNING:tensorflow:From <ipython-input-3-7fe2c6e181b2>:1: read_data_sets (from tensorflow.contrib.learn.python.learn.datasets.mnist) is deprecated and will be removed in a future version.\n",
      "Instructions for updating:\n",
      "Please use alternatives such as official/mnist/dataset.py from tensorflow/models.\n",
      "WARNING:tensorflow:From /usr/local/lib/python3.6/dist-packages/tensorflow/contrib/learn/python/learn/datasets/mnist.py:260: maybe_download (from tensorflow.contrib.learn.python.learn.datasets.base) is deprecated and will be removed in a future version.\n",
      "Instructions for updating:\n",
      "Please write your own downloading logic.\n",
      "WARNING:tensorflow:From /usr/local/lib/python3.6/dist-packages/tensorflow/contrib/learn/python/learn/datasets/mnist.py:262: extract_images (from tensorflow.contrib.learn.python.learn.datasets.mnist) is deprecated and will be removed in a future version.\n",
      "Instructions for updating:\n",
      "Please use tf.data to implement this functionality.\n",
      "Extracting MNIST_DATA/train-images-idx3-ubyte.gz\n",
      "WARNING:tensorflow:From /usr/local/lib/python3.6/dist-packages/tensorflow/contrib/learn/python/learn/datasets/mnist.py:267: extract_labels (from tensorflow.contrib.learn.python.learn.datasets.mnist) is deprecated and will be removed in a future version.\n",
      "Instructions for updating:\n",
      "Please use tf.data to implement this functionality.\n",
      "Extracting MNIST_DATA/train-labels-idx1-ubyte.gz\n",
      "WARNING:tensorflow:From /usr/local/lib/python3.6/dist-packages/tensorflow/contrib/learn/python/learn/datasets/mnist.py:110: dense_to_one_hot (from tensorflow.contrib.learn.python.learn.datasets.mnist) is deprecated and will be removed in a future version.\n",
      "Instructions for updating:\n",
      "Please use tf.one_hot on tensors.\n",
      "Extracting MNIST_DATA/t10k-images-idx3-ubyte.gz\n",
      "Extracting MNIST_DATA/t10k-labels-idx1-ubyte.gz\n",
      "WARNING:tensorflow:From /usr/local/lib/python3.6/dist-packages/tensorflow/contrib/learn/python/learn/datasets/mnist.py:290: DataSet.__init__ (from tensorflow.contrib.learn.python.learn.datasets.mnist) is deprecated and will be removed in a future version.\n",
      "Instructions for updating:\n",
      "Please use alternatives such as official/mnist/dataset.py from tensorflow/models.\n"
     ]
    }
   ],
   "source": [
    "mnist = input_data.read_data_sets(\"MNIST_DATA/\", one_hot=True)"
   ]
  },
  {
   "cell_type": "code",
   "execution_count": 4,
   "metadata": {},
   "outputs": [],
   "source": [
    "#helper function to initialise weights\n",
    "def initi_weights(shape):\n",
    "    init_random_dist = tf.truncated_normal(shape,stddev=0.1)\n",
    "    return tf.Variable(init_random_dist);"
   ]
  },
  {
   "cell_type": "code",
   "execution_count": 5,
   "metadata": {},
   "outputs": [],
   "source": [
    "# helper function to initialise bias\n",
    "def init_bias(shape):\n",
    "    init_bias_vals = tf.constant(0.1, shape=shape)\n",
    "    return tf.Variable(init_bias_vals)"
   ]
  },
  {
   "cell_type": "code",
   "execution_count": 6,
   "metadata": {},
   "outputs": [],
   "source": [
    "# helper function to create wrapper around tensorflow conv2d function that creates 2 d convolution\n",
    "# for given input tensor , filter(or kernel) tensor with srides and padding we want\n",
    "\n",
    "def conv2d(X,W):\n",
    "    # X is input tensor , in our case it will be of dimensions \n",
    "       #                 [batch_size(number of images in the  batch),height(pixels), width(pixels),channels]\n",
    "    \n",
    "    # W is filter --> [filter height,filter width, input channel, outpul channel] \n",
    "    # we will use stride of 1 in each direction of X , we have four directions!\n",
    "    return tf.nn.conv2d(X,W,strides=[1,1,1,1],padding='SAME')\n"
   ]
  },
  {
   "cell_type": "code",
   "execution_count": 7,
   "metadata": {},
   "outputs": [],
   "source": [
    "# helper function to create pooling . we will create a wrapper around the tf provided poolng function\n",
    "# this helper function will do 2 by 2 pooling along the pixels\n",
    "def max_pool_2by2(X):\n",
    "    # X-->[batch size, pixels height , pixels width, no of channels(3 for GRB , 1 for grey scale)]\n",
    "    # ksize = max pool size , since we will do max pool only along individual images'sheight and width \n",
    "      #           it will be [1,2,2,1]\n",
    "    # we will use strides of 2 along images's width and height , so it will be [1,2,2,1] again\n",
    "    # for padding we will use SAME algorithm\n",
    "    \n",
    "    return tf.nn.max_pool(X,ksize=[1,2,2,1],strides=[1,2,2,1],padding='SAME')"
   ]
  },
  {
   "cell_type": "code",
   "execution_count": 13,
   "metadata": {},
   "outputs": [],
   "source": [
    "# convolution layer\n",
    "# it will apply weights (W) and bias(b) and the relu activation on it\n",
    "# we will pasee shape as [width_filter, height_filter,input_channel,output_channel(or number of features will be detected in this convolution layer)]\n",
    "def convolution(input_x,shape):\n",
    "    W = initi_weights(shape);\n",
    "    b = init_bias([shape[3]])\n",
    "    conv_out = conv2d(input_x,W)+b\n",
    "    return tf.nn.relu(conv_out)"
   ]
  },
  {
   "cell_type": "code",
   "execution_count": 14,
   "metadata": {},
   "outputs": [],
   "source": [
    "# we will write our fully connected normal layer now\n",
    "def normal_fully_connected(input_layer,size):\n",
    "    input_size= int (input_layer.get_shape()[1]) # we can use 1 or 2 (height or width size, both are same)\n",
    "    W = initi_weights([input_size,size])\n",
    "    b = init_bias([size])\n",
    "    return tf.matmul(input_layer,W) + b;\n",
    "\n"
   ]
  },
  {
   "cell_type": "code",
   "execution_count": 15,
   "metadata": {},
   "outputs": [],
   "source": [
    "# Placesholders for input images and outpts digits (0 to 9)\n",
    "\n",
    "X= tf.placeholder(tf.float32,shape=[None,784])\n",
    "y=tf.placeholder(tf.float32,shape=[None,10])"
   ]
  },
  {
   "cell_type": "markdown",
   "metadata": {},
   "source": [
    "lets implement our CNN various layers now\n",
    "\n",
    "<h4> We will implement following arhitecture in the mnist data set in this excercise \n",
    "\n",
    "input image --> 5 by 5 filter, 32 feature detection(so 32 filters) --->max pool of 2 by 2\n",
    "--->5 by 5,64 filters-->max poll 2 by 2 --flatten\n",
    "</h4>"
   ]
  },
  {
   "cell_type": "code",
   "execution_count": 16,
   "metadata": {},
   "outputs": [],
   "source": [
    "# 1st layer is our input images\n",
    "# our input images are flattened , so we will reshape in proper dimensions\n",
    "# -1 says unknown(we dont know number of images)\n",
    "# 1 is for gray scale channel\n",
    "x_images = tf.reshape(X,[-1,28,28,1])\n"
   ]
  },
  {
   "cell_type": "markdown",
   "metadata": {},
   "source": [
    "<h3> First convolution and max pooling on it"
   ]
  },
  {
   "cell_type": "code",
   "execution_count": 18,
   "metadata": {},
   "outputs": [],
   "source": [
    "# now we will do first convolution and max pooling\n",
    "\n",
    "# in this first convolution layer shape will be [5,5,1,32]\n",
    "conv_1 = convolution(x_images,shape=[5,5,1,32])\n",
    "conv1_max_pool = max_pool_2by2(conv_1)\n"
   ]
  },
  {
   "cell_type": "markdown",
   "metadata": {},
   "source": [
    "<h3> Second convolution and max pooling on it"
   ]
  },
  {
   "cell_type": "code",
   "execution_count": 19,
   "metadata": {},
   "outputs": [],
   "source": [
    "# here input channel will be 32 (output of pevious layer) and we will extract 64 features from it\n",
    "conv_2 = convolution(conv1_max_pool,shape=[5,5,32,64])\n",
    "conv_2_max_pool = max_pool_2by2(conv_2)"
   ]
  },
  {
   "cell_type": "markdown",
   "metadata": {},
   "source": [
    "\n",
    "<h3> Flattening out our 4 dimenional data to 1 D for fully connected"
   ]
  },
  {
   "cell_type": "code",
   "execution_count": 23,
   "metadata": {},
   "outputs": [],
   "source": [
    "# we started with 28 by 28 , then we did two time max pooling of 2 by 2\n",
    "# so our image size is reduced t 7 by 7 finally(in height and  width pixels)\n",
    "\n",
    "conv_2_flatten = tf.reshape(conv_2_max_pool,[-1,7*7*64])\n",
    "\n",
    "# we will use 1024 neurons in this fully connencted layer\n",
    "fully_connected_layer_one = tf.nn.relu(normal_fully_connected(conv_2_flatten,1024))"
   ]
  },
  {
   "cell_type": "code",
   "execution_count": 24,
   "metadata": {},
   "outputs": [],
   "source": [
    "# we will apply droput\n",
    "# ceate a placeholder for dropout and apply it\n",
    "hold_prob = tf.placeholder(tf.float32)\n",
    "fully_connected_layer_one_droput = tf.nn.dropout(fully_connected_layer_one,keep_prob=hold_prob)"
   ]
  },
  {
   "cell_type": "code",
   "execution_count": 25,
   "metadata": {},
   "outputs": [],
   "source": [
    "# finnaly our predictions \n",
    "y_pred = normal_fully_connected(fully_connected_layer_one_droput,10)"
   ]
  },
  {
   "cell_type": "markdown",
   "metadata": {},
   "source": [
    "<h3> Loss function and Optimizer to miminize the loss function"
   ]
  },
  {
   "cell_type": "code",
   "execution_count": 27,
   "metadata": {},
   "outputs": [
    {
     "name": "stdout",
     "output_type": "stream",
     "text": [
      "WARNING:tensorflow:From <ipython-input-27-840912048f39>:1: softmax_cross_entropy_with_logits (from tensorflow.python.ops.nn_ops) is deprecated and will be removed in a future version.\n",
      "Instructions for updating:\n",
      "\n",
      "Future major versions of TensorFlow will allow gradients to flow\n",
      "into the labels input on backprop by default.\n",
      "\n",
      "See `tf.nn.softmax_cross_entropy_with_logits_v2`.\n",
      "\n"
     ]
    }
   ],
   "source": [
    "cross_entropy = tf.reduce_mean(tf.nn.softmax_cross_entropy_with_logits(labels=y,logits=y_pred))"
   ]
  },
  {
   "cell_type": "code",
   "execution_count": 28,
   "metadata": {},
   "outputs": [],
   "source": [
    "optimizer = tf.train.AdamOptimizer(learning_rate=0.0001)\n",
    "train = optimizer.minimize(cross_entropy)"
   ]
  },
  {
   "cell_type": "code",
   "execution_count": 29,
   "metadata": {},
   "outputs": [],
   "source": [
    "init = tf.global_variables_initializer()"
   ]
  },
  {
   "cell_type": "markdown",
   "metadata": {},
   "source": [
    "<h3> Lets run our session and see the acuracy"
   ]
  },
  {
   "cell_type": "code",
   "execution_count": 32,
   "metadata": {},
   "outputs": [
    {
     "name": "stdout",
     "output_type": "stream",
     "text": [
      "For Step 0 ,\n",
      " Accuracy is {} 0.08169999718666077\n",
      "\n",
      "\n",
      "For Step 100 ,\n",
      " Accuracy is {} 0.8543000221252441\n",
      "\n",
      "\n",
      "For Step 200 ,\n",
      " Accuracy is {} 0.9035999774932861\n",
      "\n",
      "\n",
      "For Step 300 ,\n",
      " Accuracy is {} 0.9240999817848206\n",
      "\n",
      "\n",
      "For Step 400 ,\n",
      " Accuracy is {} 0.9327999949455261\n",
      "\n",
      "\n",
      "For Step 500 ,\n",
      " Accuracy is {} 0.9416000247001648\n",
      "\n",
      "\n",
      "For Step 600 ,\n",
      " Accuracy is {} 0.9460999965667725\n",
      "\n",
      "\n",
      "For Step 700 ,\n",
      " Accuracy is {} 0.953000009059906\n",
      "\n",
      "\n",
      "For Step 800 ,\n",
      " Accuracy is {} 0.9573000073432922\n",
      "\n",
      "\n",
      "For Step 900 ,\n",
      " Accuracy is {} 0.9613999724388123\n",
      "\n",
      "\n",
      "For Step 1000 ,\n",
      " Accuracy is {} 0.9599999785423279\n",
      "\n",
      "\n",
      "For Step 1100 ,\n",
      " Accuracy is {} 0.9646999835968018\n",
      "\n",
      "\n",
      "For Step 1200 ,\n",
      " Accuracy is {} 0.9648000001907349\n",
      "\n",
      "\n",
      "For Step 1300 ,\n",
      " Accuracy is {} 0.9679999947547913\n",
      "\n",
      "\n",
      "For Step 1400 ,\n",
      " Accuracy is {} 0.968999981880188\n",
      "\n",
      "\n",
      "For Step 1500 ,\n",
      " Accuracy is {} 0.9700000286102295\n",
      "\n",
      "\n",
      "For Step 1600 ,\n",
      " Accuracy is {} 0.9707000255584717\n",
      "\n",
      "\n",
      "For Step 1700 ,\n",
      " Accuracy is {} 0.9725000262260437\n",
      "\n",
      "\n",
      "For Step 1800 ,\n",
      " Accuracy is {} 0.9722999930381775\n",
      "\n",
      "\n",
      "For Step 1900 ,\n",
      " Accuracy is {} 0.9732999801635742\n",
      "\n",
      "\n",
      "For Step 2000 ,\n",
      " Accuracy is {} 0.9764000177383423\n",
      "\n",
      "\n",
      "For Step 2100 ,\n",
      " Accuracy is {} 0.9779000282287598\n",
      "\n",
      "\n",
      "For Step 2200 ,\n",
      " Accuracy is {} 0.9771000146865845\n",
      "\n",
      "\n",
      "For Step 2300 ,\n",
      " Accuracy is {} 0.9779999852180481\n",
      "\n",
      "\n",
      "For Step 2400 ,\n",
      " Accuracy is {} 0.979200005531311\n",
      "\n",
      "\n",
      "For Step 2500 ,\n",
      " Accuracy is {} 0.9794999957084656\n",
      "\n",
      "\n",
      "For Step 2600 ,\n",
      " Accuracy is {} 0.978600025177002\n",
      "\n",
      "\n",
      "For Step 2700 ,\n",
      " Accuracy is {} 0.9803000092506409\n",
      "\n",
      "\n",
      "For Step 2800 ,\n",
      " Accuracy is {} 0.978600025177002\n",
      "\n",
      "\n",
      "For Step 2900 ,\n",
      " Accuracy is {} 0.9804999828338623\n",
      "\n",
      "\n",
      "For Step 3000 ,\n",
      " Accuracy is {} 0.9805999994277954\n",
      "\n",
      "\n",
      "For Step 3100 ,\n",
      " Accuracy is {} 0.9807999730110168\n",
      "\n",
      "\n",
      "For Step 3200 ,\n",
      " Accuracy is {} 0.9818000197410583\n",
      "\n",
      "\n",
      "For Step 3300 ,\n",
      " Accuracy is {} 0.9815999865531921\n",
      "\n",
      "\n",
      "For Step 3400 ,\n",
      " Accuracy is {} 0.9815999865531921\n",
      "\n",
      "\n",
      "For Step 3500 ,\n",
      " Accuracy is {} 0.9835000038146973\n",
      "\n",
      "\n",
      "For Step 3600 ,\n",
      " Accuracy is {} 0.9840999841690063\n",
      "\n",
      "\n",
      "For Step 3700 ,\n",
      " Accuracy is {} 0.9850000143051147\n",
      "\n",
      "\n",
      "For Step 3800 ,\n",
      " Accuracy is {} 0.9843999743461609\n",
      "\n",
      "\n",
      "For Step 3900 ,\n",
      " Accuracy is {} 0.9829000234603882\n",
      "\n",
      "\n",
      "For Step 4000 ,\n",
      " Accuracy is {} 0.9842000007629395\n",
      "\n",
      "\n",
      "For Step 4100 ,\n",
      " Accuracy is {} 0.9840999841690063\n",
      "\n",
      "\n",
      "For Step 4200 ,\n",
      " Accuracy is {} 0.9846000075340271\n",
      "\n",
      "\n",
      "For Step 4300 ,\n",
      " Accuracy is {} 0.9848999977111816\n",
      "\n",
      "\n",
      "For Step 4400 ,\n",
      " Accuracy is {} 0.9866999983787537\n",
      "\n",
      "\n",
      "For Step 4500 ,\n",
      " Accuracy is {} 0.9853000044822693\n",
      "\n",
      "\n",
      "For Step 4600 ,\n",
      " Accuracy is {} 0.9855999946594238\n",
      "\n",
      "\n",
      "For Step 4700 ,\n",
      " Accuracy is {} 0.9843999743461609\n",
      "\n",
      "\n",
      "For Step 4800 ,\n",
      " Accuracy is {} 0.9872999787330627\n",
      "\n",
      "\n",
      "For Step 4900 ,\n",
      " Accuracy is {} 0.9858999848365784\n",
      "\n",
      "\n"
     ]
    }
   ],
   "source": [
    "steps =5000 \n",
    "\n",
    "with tf.Session() as sess:\n",
    "    sess.run(init)\n",
    "    \n",
    "    for i in  range(steps):\n",
    "        # get data from train data set in chunks of 50\n",
    "        batch_x , batch_y = mnist.train.next_batch(50)\n",
    "        \n",
    "        # during training we will use dropuout probability as 50 percent\n",
    "        sess.run(train,feed_dict={X:batch_x,y:batch_y,hold_prob:0.5})\n",
    "        \n",
    "        # lets see our accuracy results every 100 steps\n",
    "        if i%100==0:\n",
    "            print(\"For Step {} ,\".format(i))\n",
    "            # Test the Train Model\n",
    "            matches = tf.equal(tf.argmax(y_pred,1),tf.argmax(y,1))\n",
    "            # convert True, False to 1 , 0 and get percentage  of 1 (matches results)\n",
    "            acc = tf.reduce_mean(tf.cast(matches,tf.float32))\n",
    "            # in test we will not do droput ,we will keep all neurons\n",
    "            acc_result=sess.run(acc,feed_dict={X:mnist.test.images,y:mnist.test.labels,hold_prob:1.0})\n",
    "            print(\" Accuracy is {}\",format(acc_result))\n",
    "            print('\\n')\n",
    "            \n",
    "            "
   ]
  },
  {
   "cell_type": "code",
   "execution_count": null,
   "metadata": {},
   "outputs": [],
   "source": []
  }
 ],
 "metadata": {
  "kernelspec": {
   "display_name": "Python 3",
   "language": "python",
   "name": "python3"
  },
  "language_info": {
   "codemirror_mode": {
    "name": "ipython",
    "version": 3
   },
   "file_extension": ".py",
   "mimetype": "text/x-python",
   "name": "python",
   "nbconvert_exporter": "python",
   "pygments_lexer": "ipython3",
   "version": "3.6.7"
  }
 },
 "nbformat": 4,
 "nbformat_minor": 2
}
