{
 "cells": [
  {
   "cell_type": "markdown",
   "metadata": {},
   "source": [
    "This notebook is for hackerearth edgeverve competition. \n",
    "From the given dataset , need to predict Product Category.  \n",
    "Ides implemenetd :\n",
    "RandomOverSample from imblearn  \n",
    "Tf-idf  \n",
    "SVM to train model  \n"
   ]
  },
  {
   "cell_type": "code",
   "execution_count": 1,
   "metadata": {},
   "outputs": [],
   "source": [
    "import pandas as pd;\n",
    "import numpy as np;\n",
    "import matplotlib as plt;\n",
    "from sklearn.feature_extraction.text import TfidfVectorizer;\n"
   ]
  },
  {
   "cell_type": "code",
   "execution_count": 2,
   "metadata": {},
   "outputs": [],
   "source": [
    "%matplotlib inline"
   ]
  },
  {
   "cell_type": "code",
   "execution_count": 3,
   "metadata": {},
   "outputs": [],
   "source": [
    "df= pd.read_csv(\"Train.csv\")"
   ]
  },
  {
   "cell_type": "code",
   "execution_count": 4,
   "metadata": {},
   "outputs": [
    {
     "data": {
      "text/html": [
       "<div>\n",
       "<style scoped>\n",
       "    .dataframe tbody tr th:only-of-type {\n",
       "        vertical-align: middle;\n",
       "    }\n",
       "\n",
       "    .dataframe tbody tr th {\n",
       "        vertical-align: top;\n",
       "    }\n",
       "\n",
       "    .dataframe thead th {\n",
       "        text-align: right;\n",
       "    }\n",
       "</style>\n",
       "<table border=\"1\" class=\"dataframe\">\n",
       "  <thead>\n",
       "    <tr style=\"text-align: right;\">\n",
       "      <th></th>\n",
       "      <th>Inv_Id</th>\n",
       "      <th>Vendor_Code</th>\n",
       "      <th>GL_Code</th>\n",
       "      <th>Inv_Amt</th>\n",
       "      <th>Item_Description</th>\n",
       "      <th>Product_Category</th>\n",
       "    </tr>\n",
       "  </thead>\n",
       "  <tbody>\n",
       "    <tr>\n",
       "      <th>0</th>\n",
       "      <td>1</td>\n",
       "      <td>VENDOR-61</td>\n",
       "      <td>GL-6050100</td>\n",
       "      <td>6.973473</td>\n",
       "      <td>AETNA VARIABLE FUND - Apr-2002 - Store Managem...</td>\n",
       "      <td>CLASS-784</td>\n",
       "    </tr>\n",
       "    <tr>\n",
       "      <th>1</th>\n",
       "      <td>2</td>\n",
       "      <td>VENDOR-61</td>\n",
       "      <td>GL-6050100</td>\n",
       "      <td>25.053841</td>\n",
       "      <td>AETNA VARIABLE FUND - Nov-2000 - Store Managem...</td>\n",
       "      <td>CLASS-784</td>\n",
       "    </tr>\n",
       "    <tr>\n",
       "      <th>2</th>\n",
       "      <td>3</td>\n",
       "      <td>VENDOR-449</td>\n",
       "      <td>GL-6050100</td>\n",
       "      <td>53.573737</td>\n",
       "      <td>FAIRCHILD CORP - Nov-2001 - Store Management R...</td>\n",
       "      <td>CLASS-784</td>\n",
       "    </tr>\n",
       "  </tbody>\n",
       "</table>\n",
       "</div>"
      ],
      "text/plain": [
       "   Inv_Id Vendor_Code     GL_Code    Inv_Amt  \\\n",
       "0       1   VENDOR-61  GL-6050100   6.973473   \n",
       "1       2   VENDOR-61  GL-6050100  25.053841   \n",
       "2       3  VENDOR-449  GL-6050100  53.573737   \n",
       "\n",
       "                                    Item_Description Product_Category  \n",
       "0  AETNA VARIABLE FUND - Apr-2002 - Store Managem...        CLASS-784  \n",
       "1  AETNA VARIABLE FUND - Nov-2000 - Store Managem...        CLASS-784  \n",
       "2  FAIRCHILD CORP - Nov-2001 - Store Management R...        CLASS-784  "
      ]
     },
     "execution_count": 4,
     "metadata": {},
     "output_type": "execute_result"
    }
   ],
   "source": [
    "df.head(3)"
   ]
  },
  {
   "cell_type": "code",
   "execution_count": 5,
   "metadata": {},
   "outputs": [
    {
     "data": {
      "text/plain": [
       "<matplotlib.axes._subplots.AxesSubplot at 0x7f32eb936e80>"
      ]
     },
     "execution_count": 5,
     "metadata": {},
     "output_type": "execute_result"
    },
    {
     "data": {
      "image/png": "[encoded data removed]",
      "text/plain": [
       "<matplotlib.figure.Figure at 0x7f32eb936470>"
      ]
     },
     "metadata": {
      "needs_background": "light"
     },
     "output_type": "display_data"
    }
   ],
   "source": [
    "# plot prodct category counts\n",
    "\n",
    "df.groupby('Product_Category').count().plot(kind='bar',figsize=(20, 10))"
   ]
  },
  {
   "cell_type": "markdown",
   "metadata": {},
   "source": [
    "So, data are very imbalanced.   \n",
    "First we will split our train and test data . On Train data we will upscale the categories so that we have equal numbers of product   \n",
    "category in our train data."
   ]
  },
  {
   "cell_type": "code",
   "execution_count": 6,
   "metadata": {},
   "outputs": [],
   "source": [
    "from sklearn.feature_extraction.text import TfidfVectorizer"
   ]
  },
  {
   "cell_type": "code",
   "execution_count": 7,
   "metadata": {},
   "outputs": [],
   "source": [
    "tf_idf_vectorizer = TfidfVectorizer(stop_words='english')"
   ]
  },
  {
   "cell_type": "code",
   "execution_count": 8,
   "metadata": {},
   "outputs": [],
   "source": [
    "X= df['Item_Description'];\n",
    "y = df['Product_Category'];"
   ]
  },
  {
   "cell_type": "code",
   "execution_count": 9,
   "metadata": {},
   "outputs": [],
   "source": [
    "X_train_tfidf = tf_idf_vectorizer.fit_transform(X)"
   ]
  },
  {
   "cell_type": "code",
   "execution_count": 10,
   "metadata": {},
   "outputs": [
    {
     "name": "stderr",
     "output_type": "stream",
     "text": [
      "/usr/local/lib/python3.6/dist-packages/sklearn/externals/six.py:31: DeprecationWarning: The module is deprecated in version 0.21 and will be removed in version 0.23 since we've dropped support for Python 2.7. Please rely on the official version of six (https://pypi.org/project/six/).\n",
      "  \"(https://pypi.org/project/six/).\", DeprecationWarning)\n"
     ]
    }
   ],
   "source": [
    "# we will use randomOversampler to oversample the train data\n",
    "from imblearn.over_sampling import RandomOverSampler"
   ]
  },
  {
   "cell_type": "code",
   "execution_count": 11,
   "metadata": {},
   "outputs": [],
   "source": [
    "sm = RandomOverSampler()\n",
    "X_oversampled, y_oversampled = sm.fit_sample(X_train_tfidf, y)"
   ]
  },
  {
   "cell_type": "code",
   "execution_count": 12,
   "metadata": {},
   "outputs": [],
   "source": [
    "oversampled_train = pd.concat([pd.DataFrame(X_oversampled), pd.DataFrame(y_oversampled)], axis=1)\n",
    "#oversampled_train.columns = train_df.columns"
   ]
  },
  {
   "cell_type": "code",
   "execution_count": 13,
   "metadata": {},
   "outputs": [],
   "source": [
    "oversampled_train.columns = ['Item_Description','Product_Category']"
   ]
  },
  {
   "cell_type": "code",
   "execution_count": 14,
   "metadata": {},
   "outputs": [
    {
     "data": {
      "text/html": [
       "<div>\n",
       "<style scoped>\n",
       "    .dataframe tbody tr th:only-of-type {\n",
       "        vertical-align: middle;\n",
       "    }\n",
       "\n",
       "    .dataframe tbody tr th {\n",
       "        vertical-align: top;\n",
       "    }\n",
       "\n",
       "    .dataframe thead th {\n",
       "        text-align: right;\n",
       "    }\n",
       "</style>\n",
       "<table border=\"1\" class=\"dataframe\">\n",
       "  <thead>\n",
       "    <tr style=\"text-align: right;\">\n",
       "      <th></th>\n",
       "      <th>Item_Description</th>\n",
       "      <th>Product_Category</th>\n",
       "    </tr>\n",
       "  </thead>\n",
       "  <tbody>\n",
       "    <tr>\n",
       "      <th>0</th>\n",
       "      <td>(0, 646)\\t0.30066161845538236\\n  (0, 1442)\\t...</td>\n",
       "      <td>CLASS-784</td>\n",
       "    </tr>\n",
       "    <tr>\n",
       "      <th>1</th>\n",
       "      <td>(0, 12)\\t0.1812107744373709\\n  (0, 1333)\\t0....</td>\n",
       "      <td>CLASS-784</td>\n",
       "    </tr>\n",
       "    <tr>\n",
       "      <th>2</th>\n",
       "      <td>(0, 13)\\t0.1876900085906291\\n  (0, 705)\\t0.1...</td>\n",
       "      <td>CLASS-784</td>\n",
       "    </tr>\n",
       "    <tr>\n",
       "      <th>3</th>\n",
       "      <td>(0, 18)\\t0.17001357734330902\\n  (0, 259)\\t0....</td>\n",
       "      <td>CLASS-784</td>\n",
       "    </tr>\n",
       "  </tbody>\n",
       "</table>\n",
       "</div>"
      ],
      "text/plain": [
       "                                    Item_Description Product_Category\n",
       "0    (0, 646)\\t0.30066161845538236\\n  (0, 1442)\\t...        CLASS-784\n",
       "1    (0, 12)\\t0.1812107744373709\\n  (0, 1333)\\t0....        CLASS-784\n",
       "2    (0, 13)\\t0.1876900085906291\\n  (0, 705)\\t0.1...        CLASS-784\n",
       "3    (0, 18)\\t0.17001357734330902\\n  (0, 259)\\t0....        CLASS-784"
      ]
     },
     "execution_count": 14,
     "metadata": {},
     "output_type": "execute_result"
    }
   ],
   "source": [
    "oversampled_train.head(4)"
   ]
  },
  {
   "cell_type": "code",
   "execution_count": 15,
   "metadata": {},
   "outputs": [],
   "source": [
    "from sklearn import svm\n",
    "\n",
    "#Create a svm Classifier\n",
    "svm_clf = svm.SVC(kernel='linear') # Linear Kerneltest_predictions"
   ]
  },
  {
   "cell_type": "code",
   "execution_count": 16,
   "metadata": {},
   "outputs": [
    {
     "data": {
      "text/plain": [
       "SVC(C=1.0, cache_size=200, class_weight=None, coef0=0.0,\n",
       "    decision_function_shape='ovr', degree=3, gamma='auto_deprecated',\n",
       "    kernel='linear', max_iter=-1, probability=False, random_state=None,\n",
       "    shrinking=True, tol=0.001, verbose=False)"
      ]
     },
     "execution_count": 16,
     "metadata": {},
     "output_type": "execute_result"
    }
   ],
   "source": [
    "svm_clf.fit(X_oversampled,y_oversampled)"
   ]
  },
  {
   "cell_type": "code",
   "execution_count": 17,
   "metadata": {},
   "outputs": [],
   "source": [
    "df_test= pd.read_csv(\"Test.csv\")"
   ]
  },
  {
   "cell_type": "code",
   "execution_count": 18,
   "metadata": {},
   "outputs": [
    {
     "data": {
      "text/html": [
       "<div>\n",
       "<style scoped>\n",
       "    .dataframe tbody tr th:only-of-type {\n",
       "        vertical-align: middle;\n",
       "    }\n",
       "\n",
       "    .dataframe tbody tr th {\n",
       "        vertical-align: top;\n",
       "    }\n",
       "\n",
       "    .dataframe thead th {\n",
       "        text-align: right;\n",
       "    }\n",
       "</style>\n",
       "<table border=\"1\" class=\"dataframe\">\n",
       "  <thead>\n",
       "    <tr style=\"text-align: right;\">\n",
       "      <th></th>\n",
       "      <th>Inv_Id</th>\n",
       "      <th>Vendor_Code</th>\n",
       "      <th>GL_Code</th>\n",
       "      <th>Inv_Amt</th>\n",
       "      <th>Item_Description</th>\n",
       "    </tr>\n",
       "  </thead>\n",
       "  <tbody>\n",
       "    <tr>\n",
       "      <th>0</th>\n",
       "      <td>6</td>\n",
       "      <td>VENDOR-1197</td>\n",
       "      <td>GL-6050100</td>\n",
       "      <td>10.916343</td>\n",
       "      <td>DESOTO INC - Jul-2008 - Store Management Real ...</td>\n",
       "    </tr>\n",
       "    <tr>\n",
       "      <th>1</th>\n",
       "      <td>12</td>\n",
       "      <td>VENDOR-792</td>\n",
       "      <td>GL-6050100</td>\n",
       "      <td>38.658772</td>\n",
       "      <td>CENTURY REALTY TRUST - Nov-2019 - Store Manage...</td>\n",
       "    </tr>\n",
       "    <tr>\n",
       "      <th>2</th>\n",
       "      <td>14</td>\n",
       "      <td>VENDOR-792</td>\n",
       "      <td>GL-6050100</td>\n",
       "      <td>46.780476</td>\n",
       "      <td>CENTURY REALTY TRUST - Jan-2006 - Store Manage...</td>\n",
       "    </tr>\n",
       "  </tbody>\n",
       "</table>\n",
       "</div>"
      ],
      "text/plain": [
       "   Inv_Id  Vendor_Code     GL_Code    Inv_Amt  \\\n",
       "0       6  VENDOR-1197  GL-6050100  10.916343   \n",
       "1      12   VENDOR-792  GL-6050100  38.658772   \n",
       "2      14   VENDOR-792  GL-6050100  46.780476   \n",
       "\n",
       "                                    Item_Description  \n",
       "0  DESOTO INC - Jul-2008 - Store Management Real ...  \n",
       "1  CENTURY REALTY TRUST - Nov-2019 - Store Manage...  \n",
       "2  CENTURY REALTY TRUST - Jan-2006 - Store Manage...  "
      ]
     },
     "execution_count": 18,
     "metadata": {},
     "output_type": "execute_result"
    }
   ],
   "source": [
    "df_test.head(3)"
   ]
  },
  {
   "cell_type": "code",
   "execution_count": 19,
   "metadata": {},
   "outputs": [],
   "source": [
    "test_predictions = svm_clf.predict(tf_idf_vectorizer.transform(df_test['Item_Description']))"
   ]
  },
  {
   "cell_type": "code",
   "execution_count": 20,
   "metadata": {},
   "outputs": [
    {
     "data": {
      "text/plain": [
       "2292"
      ]
     },
     "execution_count": 20,
     "metadata": {},
     "output_type": "execute_result"
    }
   ],
   "source": [
    "test_predictions.size"
   ]
  },
  {
   "cell_type": "code",
   "execution_count": 21,
   "metadata": {},
   "outputs": [
    {
     "data": {
      "text/plain": [
       "(2292, 5)"
      ]
     },
     "execution_count": 21,
     "metadata": {},
     "output_type": "execute_result"
    }
   ],
   "source": [
    "df_test.shape"
   ]
  },
  {
   "cell_type": "code",
   "execution_count": 22,
   "metadata": {},
   "outputs": [],
   "source": [
    "df_test['Product_Category']=test_predictions"
   ]
  },
  {
   "cell_type": "code",
   "execution_count": 23,
   "metadata": {},
   "outputs": [
    {
     "data": {
      "text/html": [
       "<div>\n",
       "<style scoped>\n",
       "    .dataframe tbody tr th:only-of-type {\n",
       "        vertical-align: middle;\n",
       "    }\n",
       "\n",
       "    .dataframe tbody tr th {\n",
       "        vertical-align: top;\n",
       "    }\n",
       "\n",
       "    .dataframe thead th {\n",
       "        text-align: right;\n",
       "    }\n",
       "</style>\n",
       "<table border=\"1\" class=\"dataframe\">\n",
       "  <thead>\n",
       "    <tr style=\"text-align: right;\">\n",
       "      <th></th>\n",
       "      <th>Inv_Id</th>\n",
       "      <th>Vendor_Code</th>\n",
       "      <th>GL_Code</th>\n",
       "      <th>Inv_Amt</th>\n",
       "      <th>Item_Description</th>\n",
       "      <th>Product_Category</th>\n",
       "    </tr>\n",
       "  </thead>\n",
       "  <tbody>\n",
       "    <tr>\n",
       "      <th>0</th>\n",
       "      <td>6</td>\n",
       "      <td>VENDOR-1197</td>\n",
       "      <td>GL-6050100</td>\n",
       "      <td>10.916343</td>\n",
       "      <td>DESOTO INC - Jul-2008 - Store Management Real ...</td>\n",
       "      <td>CLASS-784</td>\n",
       "    </tr>\n",
       "    <tr>\n",
       "      <th>1</th>\n",
       "      <td>12</td>\n",
       "      <td>VENDOR-792</td>\n",
       "      <td>GL-6050100</td>\n",
       "      <td>38.658772</td>\n",
       "      <td>CENTURY REALTY TRUST - Nov-2019 - Store Manage...</td>\n",
       "      <td>CLASS-784</td>\n",
       "    </tr>\n",
       "    <tr>\n",
       "      <th>2</th>\n",
       "      <td>14</td>\n",
       "      <td>VENDOR-792</td>\n",
       "      <td>GL-6050100</td>\n",
       "      <td>46.780476</td>\n",
       "      <td>CENTURY REALTY TRUST - Jan-2006 - Store Manage...</td>\n",
       "      <td>CLASS-784</td>\n",
       "    </tr>\n",
       "  </tbody>\n",
       "</table>\n",
       "</div>"
      ],
      "text/plain": [
       "   Inv_Id  Vendor_Code     GL_Code    Inv_Amt  \\\n",
       "0       6  VENDOR-1197  GL-6050100  10.916343   \n",
       "1      12   VENDOR-792  GL-6050100  38.658772   \n",
       "2      14   VENDOR-792  GL-6050100  46.780476   \n",
       "\n",
       "                                    Item_Description Product_Category  \n",
       "0  DESOTO INC - Jul-2008 - Store Management Real ...        CLASS-784  \n",
       "1  CENTURY REALTY TRUST - Nov-2019 - Store Manage...        CLASS-784  \n",
       "2  CENTURY REALTY TRUST - Jan-2006 - Store Manage...        CLASS-784  "
      ]
     },
     "execution_count": 23,
     "metadata": {},
     "output_type": "execute_result"
    }
   ],
   "source": [
    "df_test.head(3)"
   ]
  },
  {
   "cell_type": "code",
   "execution_count": 24,
   "metadata": {},
   "outputs": [],
   "source": [
    "test_df_selected = df_test.filter(['Inv_Id','Product_Category'], axis=1)"
   ]
  },
  {
   "cell_type": "code",
   "execution_count": 25,
   "metadata": {},
   "outputs": [],
   "source": [
    "test_df_selected.to_csv(\"submission_vSVM_v1.csv\", encoding='utf-8', index=False)"
   ]
  },
  {
   "cell_type": "code",
   "execution_count": null,
   "metadata": {},
   "outputs": [],
   "source": []
  }
 ],
 "metadata": {
  "kernelspec": {
   "display_name": "Python 3",
   "language": "python",
   "name": "python3"
  },
  "language_info": {
   "codemirror_mode": {
    "name": "ipython",
    "version": 3
   },
   "file_extension": ".py",
   "mimetype": "text/x-python",
   "name": "python",
   "nbconvert_exporter": "python",
   "pygments_lexer": "ipython3",
   "version": "3.6.8"
  }
 },
 "nbformat": 4,
 "nbformat_minor": 2
}
