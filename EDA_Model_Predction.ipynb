{
 "cells": [
  {
   "cell_type": "markdown",
   "metadata": {},
   "source": [
    "<h3>In This notebook we will use XgBoost . \n",
    "Few points that we will take care of :\n",
    "    1. No need to handle null values for XgBoost. In Fact Xgboost can be more benefecial from null entries\n",
    "  \n",
    "   \n",
    "    \n",
    "  <p>\n",
    "   <h6> Result Summary :\n",
    "    \n",
    "    1. Accuracy 90 on test , when drop NAN above 50 and core more than 70\n",
    "    "
   ]
  },
  {
   "cell_type": "code",
   "execution_count": 1,
   "metadata": {},
   "outputs": [],
   "source": [
    "import pandas as pd;\n",
    "from sklearn.ensemble import RandomForestClassifier;\n",
    "import matplotlib.pyplot as plt;\n",
    "import numpy as np;\n",
    "from sklearn.model_selection import train_test_split\n",
    "from xgboost import XGBClassifier\n",
    "from sklearn.metrics import accuracy_score"
   ]
  },
  {
   "cell_type": "code",
   "execution_count": 2,
   "metadata": {},
   "outputs": [
    {
     "name": "stderr",
     "output_type": "stream",
     "text": [
      "/usr/local/lib/python3.7/dist-packages/IPython/core/interactiveshell.py:3049: DtypeWarning: Columns (746,835) have mixed types. Specify dtype option on import or set low_memory=False.\n",
      "  interactivity=interactivity, compiler=compiler, result=result)\n"
     ]
    }
   ],
   "source": [
    "train=pd.read_csv('./DataSet/Train.csv')"
   ]
  },
  {
   "cell_type": "code",
   "execution_count": 3,
   "metadata": {},
   "outputs": [],
   "source": [
    "# we will copy this train data for reference\n",
    "train_orig=train.copy()"
   ]
  },
  {
   "cell_type": "markdown",
   "metadata": {},
   "source": [
    "<h5> EDA 1 : Lets drop duplicates"
   ]
  },
  {
   "cell_type": "code",
   "execution_count": 4,
   "metadata": {},
   "outputs": [],
   "source": [
    "# we have 2395 columns .  Lets drop duplicates and see number of columns after that\n",
    "train=train.T.drop_duplicates()\n",
    "train=train.T"
   ]
  },
  {
   "cell_type": "code",
   "execution_count": 5,
   "metadata": {},
   "outputs": [
    {
     "data": {
      "text/html": [
       "<div>\n",
       "<style scoped>\n",
       "    .dataframe tbody tr th:only-of-type {\n",
       "        vertical-align: middle;\n",
       "    }\n",
       "\n",
       "    .dataframe tbody tr th {\n",
       "        vertical-align: top;\n",
       "    }\n",
       "\n",
       "    .dataframe thead th {\n",
       "        text-align: right;\n",
       "    }\n",
       "</style>\n",
       "<table border=\"1\" class=\"dataframe\">\n",
       "  <thead>\n",
       "    <tr style=\"text-align: right;\">\n",
       "      <th></th>\n",
       "      <th>Col1</th>\n",
       "      <th>Col2</th>\n",
       "      <th>Col3</th>\n",
       "      <th>Col4</th>\n",
       "      <th>Col5</th>\n",
       "      <th>Col6</th>\n",
       "      <th>Col7</th>\n",
       "      <th>Col8</th>\n",
       "      <th>Col9</th>\n",
       "      <th>Col10</th>\n",
       "      <th>...</th>\n",
       "      <th>Col2388</th>\n",
       "      <th>Col2389</th>\n",
       "      <th>Col2390</th>\n",
       "      <th>Col2391</th>\n",
       "      <th>Col2392</th>\n",
       "      <th>Col2393</th>\n",
       "      <th>Col2394</th>\n",
       "      <th>Col2395</th>\n",
       "      <th>Col2396</th>\n",
       "      <th>Col2397</th>\n",
       "    </tr>\n",
       "  </thead>\n",
       "  <tbody>\n",
       "    <tr>\n",
       "      <th>0</th>\n",
       "      <td>RIGHGSN</td>\n",
       "      <td>1</td>\n",
       "      <td>10867.1</td>\n",
       "      <td>8648.34</td>\n",
       "      <td>15766.2</td>\n",
       "      <td>28904.7</td>\n",
       "      <td>5273.65</td>\n",
       "      <td>23461.5</td>\n",
       "      <td>12856</td>\n",
       "      <td>28715.1</td>\n",
       "      <td>...</td>\n",
       "      <td>0</td>\n",
       "      <td>1</td>\n",
       "      <td>0</td>\n",
       "      <td>1</td>\n",
       "      <td>214</td>\n",
       "      <td>214</td>\n",
       "      <td>68</td>\n",
       "      <td>22</td>\n",
       "      <td>22</td>\n",
       "      <td>7</td>\n",
       "    </tr>\n",
       "    <tr>\n",
       "      <th>1</th>\n",
       "      <td>RIMHI5ZGP</td>\n",
       "      <td>0</td>\n",
       "      <td>258431</td>\n",
       "      <td>217963</td>\n",
       "      <td>186629</td>\n",
       "      <td>186629</td>\n",
       "      <td>215452</td>\n",
       "      <td>192362</td>\n",
       "      <td>172654</td>\n",
       "      <td>166697</td>\n",
       "      <td>...</td>\n",
       "      <td>0</td>\n",
       "      <td>0</td>\n",
       "      <td>0</td>\n",
       "      <td>0</td>\n",
       "      <td>41</td>\n",
       "      <td>41</td>\n",
       "      <td>38</td>\n",
       "      <td>12</td>\n",
       "      <td>12</td>\n",
       "      <td>11</td>\n",
       "    </tr>\n",
       "    <tr>\n",
       "      <th>2</th>\n",
       "      <td>RIHOG1SZU</td>\n",
       "      <td>0</td>\n",
       "      <td>1.45935e+07</td>\n",
       "      <td>1.26006e+07</td>\n",
       "      <td>1.10031e+07</td>\n",
       "      <td>1.01031e+07</td>\n",
       "      <td>1.87988e+07</td>\n",
       "      <td>1.51404e+07</td>\n",
       "      <td>5.32078e+06</td>\n",
       "      <td>6.90632e+06</td>\n",
       "      <td>...</td>\n",
       "      <td>0</td>\n",
       "      <td>1</td>\n",
       "      <td>1</td>\n",
       "      <td>0</td>\n",
       "      <td>378</td>\n",
       "      <td>378</td>\n",
       "      <td>310</td>\n",
       "      <td>21</td>\n",
       "      <td>21</td>\n",
       "      <td>16</td>\n",
       "    </tr>\n",
       "    <tr>\n",
       "      <th>3</th>\n",
       "      <td>RIHOLMQWU</td>\n",
       "      <td>0</td>\n",
       "      <td>672704</td>\n",
       "      <td>818112</td>\n",
       "      <td>679489</td>\n",
       "      <td>679489</td>\n",
       "      <td>825725</td>\n",
       "      <td>760580</td>\n",
       "      <td>357713</td>\n",
       "      <td>423661</td>\n",
       "      <td>...</td>\n",
       "      <td>0</td>\n",
       "      <td>0</td>\n",
       "      <td>0</td>\n",
       "      <td>0</td>\n",
       "      <td>702</td>\n",
       "      <td>702</td>\n",
       "      <td>644</td>\n",
       "      <td>951</td>\n",
       "      <td>951</td>\n",
       "      <td>743</td>\n",
       "    </tr>\n",
       "    <tr>\n",
       "      <th>4</th>\n",
       "      <td>RIHO584ET</td>\n",
       "      <td>0</td>\n",
       "      <td>-1.21874e+06</td>\n",
       "      <td>-3.00536e+06</td>\n",
       "      <td>-166624</td>\n",
       "      <td>-2.40357e+06</td>\n",
       "      <td>2.58318e+06</td>\n",
       "      <td>2.08655e+06</td>\n",
       "      <td>5.93836e+06</td>\n",
       "      <td>5.44653e+06</td>\n",
       "      <td>...</td>\n",
       "      <td>0</td>\n",
       "      <td>0</td>\n",
       "      <td>0</td>\n",
       "      <td>0</td>\n",
       "      <td>1305</td>\n",
       "      <td>1305</td>\n",
       "      <td>1211</td>\n",
       "      <td>2205</td>\n",
       "      <td>2205</td>\n",
       "      <td>1831</td>\n",
       "    </tr>\n",
       "  </tbody>\n",
       "</table>\n",
       "<p>5 rows × 2266 columns</p>\n",
       "</div>"
      ],
      "text/plain": [
       "        Col1 Col2         Col3         Col4         Col5         Col6  \\\n",
       "0    RIGHGSN    1      10867.1      8648.34      15766.2      28904.7   \n",
       "1  RIMHI5ZGP    0       258431       217963       186629       186629   \n",
       "2  RIHOG1SZU    0  1.45935e+07  1.26006e+07  1.10031e+07  1.01031e+07   \n",
       "3  RIHOLMQWU    0       672704       818112       679489       679489   \n",
       "4  RIHO584ET    0 -1.21874e+06 -3.00536e+06      -166624 -2.40357e+06   \n",
       "\n",
       "          Col7         Col8         Col9        Col10  ... Col2388 Col2389  \\\n",
       "0      5273.65      23461.5        12856      28715.1  ...       0       1   \n",
       "1       215452       192362       172654       166697  ...       0       0   \n",
       "2  1.87988e+07  1.51404e+07  5.32078e+06  6.90632e+06  ...       0       1   \n",
       "3       825725       760580       357713       423661  ...       0       0   \n",
       "4  2.58318e+06  2.08655e+06  5.93836e+06  5.44653e+06  ...       0       0   \n",
       "\n",
       "  Col2390 Col2391 Col2392 Col2393 Col2394 Col2395 Col2396 Col2397  \n",
       "0       0       1     214     214      68      22      22       7  \n",
       "1       0       0      41      41      38      12      12      11  \n",
       "2       1       0     378     378     310      21      21      16  \n",
       "3       0       0     702     702     644     951     951     743  \n",
       "4       0       0    1305    1305    1211    2205    2205    1831  \n",
       "\n",
       "[5 rows x 2266 columns]"
      ]
     },
     "execution_count": 5,
     "metadata": {},
     "output_type": "execute_result"
    }
   ],
   "source": [
    "train.head()"
   ]
  },
  {
   "cell_type": "code",
   "execution_count": 6,
   "metadata": {},
   "outputs": [],
   "source": [
    "# we will separate out Col1,Col2 before doing further EDA\n",
    "train.drop(columns=['Col1','Col2'],axis=1,inplace=True);"
   ]
  },
  {
   "cell_type": "code",
   "execution_count": 7,
   "metadata": {},
   "outputs": [
    {
     "name": "stdout",
     "output_type": "stream",
     "text": [
      "Col747\n",
      "Col836\n"
     ]
    }
   ],
   "source": [
    "# Corr wants all column voalues to be numeric. But doing that we got some error.\n",
    "# So , lets see which columns gave problem converting \n",
    "\n",
    "for column in train:\n",
    "    try:\n",
    "        train[column].astype(float);\n",
    "    except Exception:\n",
    "        print(column)"
   ]
  },
  {
   "cell_type": "code",
   "execution_count": 8,
   "metadata": {},
   "outputs": [
    {
     "data": {
      "text/html": [
       "<div>\n",
       "<style scoped>\n",
       "    .dataframe tbody tr th:only-of-type {\n",
       "        vertical-align: middle;\n",
       "    }\n",
       "\n",
       "    .dataframe tbody tr th {\n",
       "        vertical-align: top;\n",
       "    }\n",
       "\n",
       "    .dataframe thead th {\n",
       "        text-align: right;\n",
       "    }\n",
       "</style>\n",
       "<table border=\"1\" class=\"dataframe\">\n",
       "  <thead>\n",
       "    <tr style=\"text-align: right;\">\n",
       "      <th></th>\n",
       "      <th>Col747</th>\n",
       "      <th>Col836</th>\n",
       "    </tr>\n",
       "  </thead>\n",
       "  <tbody>\n",
       "    <tr>\n",
       "      <th>0</th>\n",
       "      <td>NaN</td>\n",
       "      <td>NaN</td>\n",
       "    </tr>\n",
       "    <tr>\n",
       "      <th>1</th>\n",
       "      <td>NaN</td>\n",
       "      <td>NaN</td>\n",
       "    </tr>\n",
       "    <tr>\n",
       "      <th>2</th>\n",
       "      <td>NaN</td>\n",
       "      <td>NaN</td>\n",
       "    </tr>\n",
       "    <tr>\n",
       "      <th>3</th>\n",
       "      <td>NaN</td>\n",
       "      <td>NaN</td>\n",
       "    </tr>\n",
       "    <tr>\n",
       "      <th>4</th>\n",
       "      <td>NaN</td>\n",
       "      <td>NaN</td>\n",
       "    </tr>\n",
       "    <tr>\n",
       "      <th>5</th>\n",
       "      <td>NaN</td>\n",
       "      <td>NaN</td>\n",
       "    </tr>\n",
       "    <tr>\n",
       "      <th>6</th>\n",
       "      <td>NaN</td>\n",
       "      <td>NaN</td>\n",
       "    </tr>\n",
       "    <tr>\n",
       "      <th>7</th>\n",
       "      <td>NaN</td>\n",
       "      <td>NaN</td>\n",
       "    </tr>\n",
       "    <tr>\n",
       "      <th>8</th>\n",
       "      <td>NaN</td>\n",
       "      <td>NaN</td>\n",
       "    </tr>\n",
       "    <tr>\n",
       "      <th>9</th>\n",
       "      <td>NaN</td>\n",
       "      <td>NaN</td>\n",
       "    </tr>\n",
       "    <tr>\n",
       "      <th>10</th>\n",
       "      <td>-</td>\n",
       "      <td>-</td>\n",
       "    </tr>\n",
       "    <tr>\n",
       "      <th>11</th>\n",
       "      <td>NaN</td>\n",
       "      <td>NaN</td>\n",
       "    </tr>\n",
       "    <tr>\n",
       "      <th>12</th>\n",
       "      <td>NaN</td>\n",
       "      <td>NaN</td>\n",
       "    </tr>\n",
       "    <tr>\n",
       "      <th>13</th>\n",
       "      <td>NaN</td>\n",
       "      <td>NaN</td>\n",
       "    </tr>\n",
       "    <tr>\n",
       "      <th>14</th>\n",
       "      <td>NaN</td>\n",
       "      <td>NaN</td>\n",
       "    </tr>\n",
       "    <tr>\n",
       "      <th>15</th>\n",
       "      <td>NaN</td>\n",
       "      <td>NaN</td>\n",
       "    </tr>\n",
       "    <tr>\n",
       "      <th>16</th>\n",
       "      <td>NaN</td>\n",
       "      <td>NaN</td>\n",
       "    </tr>\n",
       "    <tr>\n",
       "      <th>17</th>\n",
       "      <td>NaN</td>\n",
       "      <td>NaN</td>\n",
       "    </tr>\n",
       "    <tr>\n",
       "      <th>18</th>\n",
       "      <td>NaN</td>\n",
       "      <td>NaN</td>\n",
       "    </tr>\n",
       "    <tr>\n",
       "      <th>19</th>\n",
       "      <td>NaN</td>\n",
       "      <td>NaN</td>\n",
       "    </tr>\n",
       "    <tr>\n",
       "      <th>20</th>\n",
       "      <td>NaN</td>\n",
       "      <td>NaN</td>\n",
       "    </tr>\n",
       "    <tr>\n",
       "      <th>21</th>\n",
       "      <td>NaN</td>\n",
       "      <td>NaN</td>\n",
       "    </tr>\n",
       "    <tr>\n",
       "      <th>22</th>\n",
       "      <td>NaN</td>\n",
       "      <td>NaN</td>\n",
       "    </tr>\n",
       "    <tr>\n",
       "      <th>23</th>\n",
       "      <td>NaN</td>\n",
       "      <td>NaN</td>\n",
       "    </tr>\n",
       "    <tr>\n",
       "      <th>24</th>\n",
       "      <td>NaN</td>\n",
       "      <td>NaN</td>\n",
       "    </tr>\n",
       "    <tr>\n",
       "      <th>25</th>\n",
       "      <td>NaN</td>\n",
       "      <td>NaN</td>\n",
       "    </tr>\n",
       "    <tr>\n",
       "      <th>26</th>\n",
       "      <td>NaN</td>\n",
       "      <td>NaN</td>\n",
       "    </tr>\n",
       "    <tr>\n",
       "      <th>27</th>\n",
       "      <td>NaN</td>\n",
       "      <td>NaN</td>\n",
       "    </tr>\n",
       "    <tr>\n",
       "      <th>28</th>\n",
       "      <td>NaN</td>\n",
       "      <td>NaN</td>\n",
       "    </tr>\n",
       "    <tr>\n",
       "      <th>29</th>\n",
       "      <td>NaN</td>\n",
       "      <td>NaN</td>\n",
       "    </tr>\n",
       "    <tr>\n",
       "      <th>...</th>\n",
       "      <td>...</td>\n",
       "      <td>...</td>\n",
       "    </tr>\n",
       "    <tr>\n",
       "      <th>17491</th>\n",
       "      <td>NaN</td>\n",
       "      <td>NaN</td>\n",
       "    </tr>\n",
       "    <tr>\n",
       "      <th>17492</th>\n",
       "      <td>NaN</td>\n",
       "      <td>NaN</td>\n",
       "    </tr>\n",
       "    <tr>\n",
       "      <th>17493</th>\n",
       "      <td>NaN</td>\n",
       "      <td>NaN</td>\n",
       "    </tr>\n",
       "    <tr>\n",
       "      <th>17494</th>\n",
       "      <td>NaN</td>\n",
       "      <td>NaN</td>\n",
       "    </tr>\n",
       "    <tr>\n",
       "      <th>17495</th>\n",
       "      <td>NaN</td>\n",
       "      <td>NaN</td>\n",
       "    </tr>\n",
       "    <tr>\n",
       "      <th>17496</th>\n",
       "      <td>NaN</td>\n",
       "      <td>NaN</td>\n",
       "    </tr>\n",
       "    <tr>\n",
       "      <th>17497</th>\n",
       "      <td>NaN</td>\n",
       "      <td>NaN</td>\n",
       "    </tr>\n",
       "    <tr>\n",
       "      <th>17498</th>\n",
       "      <td>NaN</td>\n",
       "      <td>NaN</td>\n",
       "    </tr>\n",
       "    <tr>\n",
       "      <th>17499</th>\n",
       "      <td>NaN</td>\n",
       "      <td>NaN</td>\n",
       "    </tr>\n",
       "    <tr>\n",
       "      <th>17500</th>\n",
       "      <td>NaN</td>\n",
       "      <td>NaN</td>\n",
       "    </tr>\n",
       "    <tr>\n",
       "      <th>17501</th>\n",
       "      <td>NaN</td>\n",
       "      <td>NaN</td>\n",
       "    </tr>\n",
       "    <tr>\n",
       "      <th>17502</th>\n",
       "      <td>NaN</td>\n",
       "      <td>NaN</td>\n",
       "    </tr>\n",
       "    <tr>\n",
       "      <th>17503</th>\n",
       "      <td>NaN</td>\n",
       "      <td>NaN</td>\n",
       "    </tr>\n",
       "    <tr>\n",
       "      <th>17504</th>\n",
       "      <td>NaN</td>\n",
       "      <td>NaN</td>\n",
       "    </tr>\n",
       "    <tr>\n",
       "      <th>17505</th>\n",
       "      <td>NaN</td>\n",
       "      <td>NaN</td>\n",
       "    </tr>\n",
       "    <tr>\n",
       "      <th>17506</th>\n",
       "      <td>NaN</td>\n",
       "      <td>NaN</td>\n",
       "    </tr>\n",
       "    <tr>\n",
       "      <th>17507</th>\n",
       "      <td>NaN</td>\n",
       "      <td>NaN</td>\n",
       "    </tr>\n",
       "    <tr>\n",
       "      <th>17508</th>\n",
       "      <td>NaN</td>\n",
       "      <td>NaN</td>\n",
       "    </tr>\n",
       "    <tr>\n",
       "      <th>17509</th>\n",
       "      <td>NaN</td>\n",
       "      <td>NaN</td>\n",
       "    </tr>\n",
       "    <tr>\n",
       "      <th>17510</th>\n",
       "      <td>NaN</td>\n",
       "      <td>NaN</td>\n",
       "    </tr>\n",
       "    <tr>\n",
       "      <th>17511</th>\n",
       "      <td>NaN</td>\n",
       "      <td>NaN</td>\n",
       "    </tr>\n",
       "    <tr>\n",
       "      <th>17512</th>\n",
       "      <td>NaN</td>\n",
       "      <td>NaN</td>\n",
       "    </tr>\n",
       "    <tr>\n",
       "      <th>17513</th>\n",
       "      <td>NaN</td>\n",
       "      <td>NaN</td>\n",
       "    </tr>\n",
       "    <tr>\n",
       "      <th>17514</th>\n",
       "      <td>NaN</td>\n",
       "      <td>NaN</td>\n",
       "    </tr>\n",
       "    <tr>\n",
       "      <th>17515</th>\n",
       "      <td>NaN</td>\n",
       "      <td>NaN</td>\n",
       "    </tr>\n",
       "    <tr>\n",
       "      <th>17516</th>\n",
       "      <td>NaN</td>\n",
       "      <td>NaN</td>\n",
       "    </tr>\n",
       "    <tr>\n",
       "      <th>17517</th>\n",
       "      <td>NaN</td>\n",
       "      <td>NaN</td>\n",
       "    </tr>\n",
       "    <tr>\n",
       "      <th>17518</th>\n",
       "      <td>NaN</td>\n",
       "      <td>NaN</td>\n",
       "    </tr>\n",
       "    <tr>\n",
       "      <th>17519</th>\n",
       "      <td>NaN</td>\n",
       "      <td>NaN</td>\n",
       "    </tr>\n",
       "    <tr>\n",
       "      <th>17520</th>\n",
       "      <td>NaN</td>\n",
       "      <td>NaN</td>\n",
       "    </tr>\n",
       "  </tbody>\n",
       "</table>\n",
       "<p>17521 rows × 2 columns</p>\n",
       "</div>"
      ],
      "text/plain": [
       "      Col747 Col836\n",
       "0        NaN    NaN\n",
       "1        NaN    NaN\n",
       "2        NaN    NaN\n",
       "3        NaN    NaN\n",
       "4        NaN    NaN\n",
       "5        NaN    NaN\n",
       "6        NaN    NaN\n",
       "7        NaN    NaN\n",
       "8        NaN    NaN\n",
       "9        NaN    NaN\n",
       "10         -      -\n",
       "11       NaN    NaN\n",
       "12       NaN    NaN\n",
       "13       NaN    NaN\n",
       "14       NaN    NaN\n",
       "15       NaN    NaN\n",
       "16       NaN    NaN\n",
       "17       NaN    NaN\n",
       "18       NaN    NaN\n",
       "19       NaN    NaN\n",
       "20       NaN    NaN\n",
       "21       NaN    NaN\n",
       "22       NaN    NaN\n",
       "23       NaN    NaN\n",
       "24       NaN    NaN\n",
       "25       NaN    NaN\n",
       "26       NaN    NaN\n",
       "27       NaN    NaN\n",
       "28       NaN    NaN\n",
       "29       NaN    NaN\n",
       "...      ...    ...\n",
       "17491    NaN    NaN\n",
       "17492    NaN    NaN\n",
       "17493    NaN    NaN\n",
       "17494    NaN    NaN\n",
       "17495    NaN    NaN\n",
       "17496    NaN    NaN\n",
       "17497    NaN    NaN\n",
       "17498    NaN    NaN\n",
       "17499    NaN    NaN\n",
       "17500    NaN    NaN\n",
       "17501    NaN    NaN\n",
       "17502    NaN    NaN\n",
       "17503    NaN    NaN\n",
       "17504    NaN    NaN\n",
       "17505    NaN    NaN\n",
       "17506    NaN    NaN\n",
       "17507    NaN    NaN\n",
       "17508    NaN    NaN\n",
       "17509    NaN    NaN\n",
       "17510    NaN    NaN\n",
       "17511    NaN    NaN\n",
       "17512    NaN    NaN\n",
       "17513    NaN    NaN\n",
       "17514    NaN    NaN\n",
       "17515    NaN    NaN\n",
       "17516    NaN    NaN\n",
       "17517    NaN    NaN\n",
       "17518    NaN    NaN\n",
       "17519    NaN    NaN\n",
       "17520    NaN    NaN\n",
       "\n",
       "[17521 rows x 2 columns]"
      ]
     },
     "execution_count": 8,
     "metadata": {},
     "output_type": "execute_result"
    }
   ],
   "source": [
    "train[['Col747','Col836']]"
   ]
  },
  {
   "cell_type": "markdown",
   "metadata": {},
   "source": [
    "<h5> EDA 2 : Drop columns whose NaN is more than 30 percent"
   ]
  },
  {
   "cell_type": "code",
   "execution_count": 9,
   "metadata": {},
   "outputs": [],
   "source": [
    "# get columns where NaN are more than 30 percent\n",
    "for column in train:\n",
    "    if (round((train[column].isnull().sum() * 100/ len(train[column])),2))>50:\n",
    "        train.drop(column, axis=1, inplace=True)\n",
    "    "
   ]
  },
  {
   "cell_type": "code",
   "execution_count": 10,
   "metadata": {},
   "outputs": [
    {
     "data": {
      "text/html": [
       "<div>\n",
       "<style scoped>\n",
       "    .dataframe tbody tr th:only-of-type {\n",
       "        vertical-align: middle;\n",
       "    }\n",
       "\n",
       "    .dataframe tbody tr th {\n",
       "        vertical-align: top;\n",
       "    }\n",
       "\n",
       "    .dataframe thead th {\n",
       "        text-align: right;\n",
       "    }\n",
       "</style>\n",
       "<table border=\"1\" class=\"dataframe\">\n",
       "  <thead>\n",
       "    <tr style=\"text-align: right;\">\n",
       "      <th></th>\n",
       "      <th>Col3</th>\n",
       "      <th>Col4</th>\n",
       "      <th>Col5</th>\n",
       "      <th>Col6</th>\n",
       "      <th>Col7</th>\n",
       "      <th>Col8</th>\n",
       "      <th>Col9</th>\n",
       "      <th>Col10</th>\n",
       "      <th>Col11</th>\n",
       "      <th>Col12</th>\n",
       "      <th>...</th>\n",
       "      <th>Col2388</th>\n",
       "      <th>Col2389</th>\n",
       "      <th>Col2390</th>\n",
       "      <th>Col2391</th>\n",
       "      <th>Col2392</th>\n",
       "      <th>Col2393</th>\n",
       "      <th>Col2394</th>\n",
       "      <th>Col2395</th>\n",
       "      <th>Col2396</th>\n",
       "      <th>Col2397</th>\n",
       "    </tr>\n",
       "  </thead>\n",
       "  <tbody>\n",
       "    <tr>\n",
       "      <th>0</th>\n",
       "      <td>10867.1</td>\n",
       "      <td>8648.34</td>\n",
       "      <td>15766.2</td>\n",
       "      <td>28904.7</td>\n",
       "      <td>5273.65</td>\n",
       "      <td>23461.5</td>\n",
       "      <td>12856</td>\n",
       "      <td>28715.1</td>\n",
       "      <td>9114.59</td>\n",
       "      <td>30430.8</td>\n",
       "      <td>...</td>\n",
       "      <td>0</td>\n",
       "      <td>1</td>\n",
       "      <td>0</td>\n",
       "      <td>1</td>\n",
       "      <td>214</td>\n",
       "      <td>214</td>\n",
       "      <td>68</td>\n",
       "      <td>22</td>\n",
       "      <td>22</td>\n",
       "      <td>7</td>\n",
       "    </tr>\n",
       "    <tr>\n",
       "      <th>1</th>\n",
       "      <td>258431</td>\n",
       "      <td>217963</td>\n",
       "      <td>186629</td>\n",
       "      <td>186629</td>\n",
       "      <td>215452</td>\n",
       "      <td>192362</td>\n",
       "      <td>172654</td>\n",
       "      <td>166697</td>\n",
       "      <td>201352</td>\n",
       "      <td>185940</td>\n",
       "      <td>...</td>\n",
       "      <td>0</td>\n",
       "      <td>0</td>\n",
       "      <td>0</td>\n",
       "      <td>0</td>\n",
       "      <td>41</td>\n",
       "      <td>41</td>\n",
       "      <td>38</td>\n",
       "      <td>12</td>\n",
       "      <td>12</td>\n",
       "      <td>11</td>\n",
       "    </tr>\n",
       "    <tr>\n",
       "      <th>2</th>\n",
       "      <td>1.45935e+07</td>\n",
       "      <td>1.26006e+07</td>\n",
       "      <td>1.10031e+07</td>\n",
       "      <td>1.01031e+07</td>\n",
       "      <td>1.87988e+07</td>\n",
       "      <td>1.51404e+07</td>\n",
       "      <td>5.32078e+06</td>\n",
       "      <td>6.90632e+06</td>\n",
       "      <td>9.36834e+06</td>\n",
       "      <td>1.11333e+07</td>\n",
       "      <td>...</td>\n",
       "      <td>0</td>\n",
       "      <td>1</td>\n",
       "      <td>1</td>\n",
       "      <td>0</td>\n",
       "      <td>378</td>\n",
       "      <td>378</td>\n",
       "      <td>310</td>\n",
       "      <td>21</td>\n",
       "      <td>21</td>\n",
       "      <td>16</td>\n",
       "    </tr>\n",
       "    <tr>\n",
       "      <th>3</th>\n",
       "      <td>672704</td>\n",
       "      <td>818112</td>\n",
       "      <td>679489</td>\n",
       "      <td>679489</td>\n",
       "      <td>825725</td>\n",
       "      <td>760580</td>\n",
       "      <td>357713</td>\n",
       "      <td>423661</td>\n",
       "      <td>430485</td>\n",
       "      <td>406554</td>\n",
       "      <td>...</td>\n",
       "      <td>0</td>\n",
       "      <td>0</td>\n",
       "      <td>0</td>\n",
       "      <td>0</td>\n",
       "      <td>702</td>\n",
       "      <td>702</td>\n",
       "      <td>644</td>\n",
       "      <td>951</td>\n",
       "      <td>951</td>\n",
       "      <td>743</td>\n",
       "    </tr>\n",
       "    <tr>\n",
       "      <th>4</th>\n",
       "      <td>-1.21874e+06</td>\n",
       "      <td>-3.00536e+06</td>\n",
       "      <td>-166624</td>\n",
       "      <td>-2.40357e+06</td>\n",
       "      <td>2.58318e+06</td>\n",
       "      <td>2.08655e+06</td>\n",
       "      <td>5.93836e+06</td>\n",
       "      <td>5.44653e+06</td>\n",
       "      <td>3.47344e+06</td>\n",
       "      <td>3.26217e+06</td>\n",
       "      <td>...</td>\n",
       "      <td>0</td>\n",
       "      <td>0</td>\n",
       "      <td>0</td>\n",
       "      <td>0</td>\n",
       "      <td>1305</td>\n",
       "      <td>1305</td>\n",
       "      <td>1211</td>\n",
       "      <td>2205</td>\n",
       "      <td>2205</td>\n",
       "      <td>1831</td>\n",
       "    </tr>\n",
       "  </tbody>\n",
       "</table>\n",
       "<p>5 rows × 1987 columns</p>\n",
       "</div>"
      ],
      "text/plain": [
       "          Col3         Col4         Col5         Col6         Col7  \\\n",
       "0      10867.1      8648.34      15766.2      28904.7      5273.65   \n",
       "1       258431       217963       186629       186629       215452   \n",
       "2  1.45935e+07  1.26006e+07  1.10031e+07  1.01031e+07  1.87988e+07   \n",
       "3       672704       818112       679489       679489       825725   \n",
       "4 -1.21874e+06 -3.00536e+06      -166624 -2.40357e+06  2.58318e+06   \n",
       "\n",
       "          Col8         Col9        Col10        Col11        Col12  ...  \\\n",
       "0      23461.5        12856      28715.1      9114.59      30430.8  ...   \n",
       "1       192362       172654       166697       201352       185940  ...   \n",
       "2  1.51404e+07  5.32078e+06  6.90632e+06  9.36834e+06  1.11333e+07  ...   \n",
       "3       760580       357713       423661       430485       406554  ...   \n",
       "4  2.08655e+06  5.93836e+06  5.44653e+06  3.47344e+06  3.26217e+06  ...   \n",
       "\n",
       "  Col2388 Col2389 Col2390 Col2391 Col2392 Col2393 Col2394 Col2395 Col2396  \\\n",
       "0       0       1       0       1     214     214      68      22      22   \n",
       "1       0       0       0       0      41      41      38      12      12   \n",
       "2       0       1       1       0     378     378     310      21      21   \n",
       "3       0       0       0       0     702     702     644     951     951   \n",
       "4       0       0       0       0    1305    1305    1211    2205    2205   \n",
       "\n",
       "  Col2397  \n",
       "0       7  \n",
       "1      11  \n",
       "2      16  \n",
       "3     743  \n",
       "4    1831  \n",
       "\n",
       "[5 rows x 1987 columns]"
      ]
     },
     "execution_count": 10,
     "metadata": {},
     "output_type": "execute_result"
    }
   ],
   "source": [
    "train.head()"
   ]
  },
  {
   "cell_type": "markdown",
   "metadata": {},
   "source": [
    "<h5> EDA 3 : Check Constant columns"
   ]
  },
  {
   "cell_type": "code",
   "execution_count": 11,
   "metadata": {},
   "outputs": [
    {
     "data": {
      "text/plain": [
       "Index([], dtype='object')"
      ]
     },
     "execution_count": 11,
     "metadata": {},
     "output_type": "execute_result"
    }
   ],
   "source": [
    "# check any contant columns are there\n",
    "train.columns[train.nunique()==1 ]\n"
   ]
  },
  {
   "cell_type": "markdown",
   "metadata": {},
   "source": [
    "So, we dont have any constant columns. Nothing to do with it for this data set"
   ]
  },
  {
   "cell_type": "markdown",
   "metadata": {},
   "source": [
    "<h5> EDA 4 : Corelation matrix and rop highl corelated columns"
   ]
  },
  {
   "cell_type": "code",
   "execution_count": 12,
   "metadata": {},
   "outputs": [],
   "source": [
    "# Create correlation matrix\n",
    "corr_matrix = train.astype(float).corr()\n",
    "\n",
    "# Select upper triangle of correlation matrix\n",
    "upper = corr_matrix.where(np.triu(np.ones(corr_matrix.shape), k=1).astype(np.bool))\n",
    "\n"
   ]
  },
  {
   "cell_type": "markdown",
   "metadata": {},
   "source": [
    "list the columns to dropped who has more than 90 percent corelation with another column.   \n",
    "So, if colmn 1 and coln 2 has corelation more than 90 percent, we will keep colmn 1 and we will drop column2"
   ]
  },
  {
   "cell_type": "code",
   "execution_count": 13,
   "metadata": {},
   "outputs": [],
   "source": [
    "# Find index of feature columns with correlation greater than 0.95\n",
    "to_drop = [column for column in upper.columns if any(upper[column] > 0.70)]"
   ]
  },
  {
   "cell_type": "code",
   "execution_count": 14,
   "metadata": {},
   "outputs": [
    {
     "data": {
      "text/plain": [
       "1583"
      ]
     },
     "execution_count": 14,
     "metadata": {},
     "output_type": "execute_result"
    }
   ],
   "source": [
    "len(to_drop)"
   ]
  },
  {
   "cell_type": "code",
   "execution_count": 15,
   "metadata": {},
   "outputs": [],
   "source": [
    "train.drop(to_drop,axis=1,inplace=True)"
   ]
  },
  {
   "cell_type": "code",
   "execution_count": 16,
   "metadata": {},
   "outputs": [
    {
     "data": {
      "text/html": [
       "<div>\n",
       "<style scoped>\n",
       "    .dataframe tbody tr th:only-of-type {\n",
       "        vertical-align: middle;\n",
       "    }\n",
       "\n",
       "    .dataframe tbody tr th {\n",
       "        vertical-align: top;\n",
       "    }\n",
       "\n",
       "    .dataframe thead th {\n",
       "        text-align: right;\n",
       "    }\n",
       "</style>\n",
       "<table border=\"1\" class=\"dataframe\">\n",
       "  <thead>\n",
       "    <tr style=\"text-align: right;\">\n",
       "      <th></th>\n",
       "      <th>Col3</th>\n",
       "      <th>Col9</th>\n",
       "      <th>Col13</th>\n",
       "      <th>Col14</th>\n",
       "      <th>Col17</th>\n",
       "      <th>Col18</th>\n",
       "      <th>Col21</th>\n",
       "      <th>Col22</th>\n",
       "      <th>Col23</th>\n",
       "      <th>Col24</th>\n",
       "      <th>...</th>\n",
       "      <th>Col1383</th>\n",
       "      <th>Col1386</th>\n",
       "      <th>Col1387</th>\n",
       "      <th>Col1388</th>\n",
       "      <th>Col1389</th>\n",
       "      <th>Col1527</th>\n",
       "      <th>Col1575</th>\n",
       "      <th>Col1589</th>\n",
       "      <th>Col1617</th>\n",
       "      <th>Col1631</th>\n",
       "    </tr>\n",
       "  </thead>\n",
       "  <tbody>\n",
       "    <tr>\n",
       "      <th>0</th>\n",
       "      <td>10867.1</td>\n",
       "      <td>12856</td>\n",
       "      <td>9.2935</td>\n",
       "      <td>8.57048</td>\n",
       "      <td>0.548538</td>\n",
       "      <td>0.403366</td>\n",
       "      <td>1.48652</td>\n",
       "      <td>1.72832</td>\n",
       "      <td>0.993441</td>\n",
       "      <td>1.29705</td>\n",
       "      <td>...</td>\n",
       "      <td>0</td>\n",
       "      <td>0</td>\n",
       "      <td>0</td>\n",
       "      <td>1</td>\n",
       "      <td>1</td>\n",
       "      <td>0</td>\n",
       "      <td>0</td>\n",
       "      <td>0</td>\n",
       "      <td>0</td>\n",
       "      <td>0</td>\n",
       "    </tr>\n",
       "    <tr>\n",
       "      <th>1</th>\n",
       "      <td>258431</td>\n",
       "      <td>172654</td>\n",
       "      <td>12.4624</td>\n",
       "      <td>12.2805</td>\n",
       "      <td>1.1679</td>\n",
       "      <td>2.6764</td>\n",
       "      <td>0.792123</td>\n",
       "      <td>0.934556</td>\n",
       "      <td>0.893203</td>\n",
       "      <td>0.96662</td>\n",
       "      <td>...</td>\n",
       "      <td>0</td>\n",
       "      <td>0</td>\n",
       "      <td>0</td>\n",
       "      <td>0</td>\n",
       "      <td>0</td>\n",
       "      <td>0</td>\n",
       "      <td>0</td>\n",
       "      <td>0</td>\n",
       "      <td>0</td>\n",
       "      <td>0</td>\n",
       "    </tr>\n",
       "    <tr>\n",
       "      <th>2</th>\n",
       "      <td>1.45935e+07</td>\n",
       "      <td>5.32078e+06</td>\n",
       "      <td>16.4961</td>\n",
       "      <td>16.7493</td>\n",
       "      <td>1.14518</td>\n",
       "      <td>2.20387</td>\n",
       "      <td>0.422264</td>\n",
       "      <td>0.498347</td>\n",
       "      <td>0.683582</td>\n",
       "      <td>0.735339</td>\n",
       "      <td>...</td>\n",
       "      <td>0</td>\n",
       "      <td>0</td>\n",
       "      <td>0</td>\n",
       "      <td>0</td>\n",
       "      <td>1</td>\n",
       "      <td>0</td>\n",
       "      <td>0</td>\n",
       "      <td>0</td>\n",
       "      <td>0</td>\n",
       "      <td>0</td>\n",
       "    </tr>\n",
       "    <tr>\n",
       "      <th>3</th>\n",
       "      <td>672704</td>\n",
       "      <td>357713</td>\n",
       "      <td>13.4191</td>\n",
       "      <td>13.624</td>\n",
       "      <td>1.20401</td>\n",
       "      <td>0.536304</td>\n",
       "      <td>0.437243</td>\n",
       "      <td>0.521341</td>\n",
       "      <td>0.623499</td>\n",
       "      <td>0.534531</td>\n",
       "      <td>...</td>\n",
       "      <td>0</td>\n",
       "      <td>0</td>\n",
       "      <td>0</td>\n",
       "      <td>0</td>\n",
       "      <td>0</td>\n",
       "      <td>1</td>\n",
       "      <td>0</td>\n",
       "      <td>0</td>\n",
       "      <td>1</td>\n",
       "      <td>0</td>\n",
       "    </tr>\n",
       "    <tr>\n",
       "      <th>4</th>\n",
       "      <td>-1.21874e+06</td>\n",
       "      <td>5.93836e+06</td>\n",
       "      <td>NaN</td>\n",
       "      <td>14.7645</td>\n",
       "      <td>NaN</td>\n",
       "      <td>NaN</td>\n",
       "      <td>NaN</td>\n",
       "      <td>1.34464</td>\n",
       "      <td>NaN</td>\n",
       "      <td>1.56343</td>\n",
       "      <td>...</td>\n",
       "      <td>0</td>\n",
       "      <td>2</td>\n",
       "      <td>1</td>\n",
       "      <td>0</td>\n",
       "      <td>0</td>\n",
       "      <td>1</td>\n",
       "      <td>0</td>\n",
       "      <td>1</td>\n",
       "      <td>1</td>\n",
       "      <td>0</td>\n",
       "    </tr>\n",
       "  </tbody>\n",
       "</table>\n",
       "<p>5 rows × 404 columns</p>\n",
       "</div>"
      ],
      "text/plain": [
       "          Col3         Col9    Col13    Col14     Col17     Col18     Col21  \\\n",
       "0      10867.1        12856   9.2935  8.57048  0.548538  0.403366   1.48652   \n",
       "1       258431       172654  12.4624  12.2805    1.1679    2.6764  0.792123   \n",
       "2  1.45935e+07  5.32078e+06  16.4961  16.7493   1.14518   2.20387  0.422264   \n",
       "3       672704       357713  13.4191   13.624   1.20401  0.536304  0.437243   \n",
       "4 -1.21874e+06  5.93836e+06      NaN  14.7645       NaN       NaN       NaN   \n",
       "\n",
       "      Col22     Col23     Col24  ... Col1383 Col1386 Col1387 Col1388 Col1389  \\\n",
       "0   1.72832  0.993441   1.29705  ...       0       0       0       1       1   \n",
       "1  0.934556  0.893203   0.96662  ...       0       0       0       0       0   \n",
       "2  0.498347  0.683582  0.735339  ...       0       0       0       0       1   \n",
       "3  0.521341  0.623499  0.534531  ...       0       0       0       0       0   \n",
       "4   1.34464       NaN   1.56343  ...       0       2       1       0       0   \n",
       "\n",
       "  Col1527 Col1575 Col1589 Col1617 Col1631  \n",
       "0       0       0       0       0       0  \n",
       "1       0       0       0       0       0  \n",
       "2       0       0       0       0       0  \n",
       "3       1       0       0       1       0  \n",
       "4       1       0       1       1       0  \n",
       "\n",
       "[5 rows x 404 columns]"
      ]
     },
     "execution_count": 16,
     "metadata": {},
     "output_type": "execute_result"
    }
   ],
   "source": [
    "train.head()"
   ]
  },
  {
   "cell_type": "markdown",
   "metadata": {},
   "source": [
    "<h5> So , now we have only 414 columns .  <p>\n",
    "we will do our first model based on it .  <p> \n",
    "Later we will do more EDA , like can we group more columns to a new columns/feature ?"
   ]
  },
  {
   "cell_type": "code",
   "execution_count": 17,
   "metadata": {},
   "outputs": [],
   "source": [
    "X=train"
   ]
  },
  {
   "cell_type": "code",
   "execution_count": 18,
   "metadata": {},
   "outputs": [],
   "source": [
    "train_filtered_columns=train.columns"
   ]
  },
  {
   "cell_type": "code",
   "execution_count": 19,
   "metadata": {},
   "outputs": [
    {
     "data": {
      "text/plain": [
       "404"
      ]
     },
     "execution_count": 19,
     "metadata": {},
     "output_type": "execute_result"
    }
   ],
   "source": [
    "len(train_filtered_columns)"
   ]
  },
  {
   "cell_type": "code",
   "execution_count": 20,
   "metadata": {},
   "outputs": [],
   "source": [
    "# we will put Col2 , thats target back to train\n",
    "y=train_orig['Col2']"
   ]
  },
  {
   "cell_type": "code",
   "execution_count": 21,
   "metadata": {},
   "outputs": [
    {
     "data": {
      "text/plain": [
       "(17521, 404)"
      ]
     },
     "execution_count": 21,
     "metadata": {},
     "output_type": "execute_result"
    }
   ],
   "source": [
    "X.shape"
   ]
  },
  {
   "cell_type": "code",
   "execution_count": 22,
   "metadata": {},
   "outputs": [
    {
     "data": {
      "text/plain": [
       "(17521,)"
      ]
     },
     "execution_count": 22,
     "metadata": {},
     "output_type": "execute_result"
    }
   ],
   "source": [
    "y.shape"
   ]
  },
  {
   "cell_type": "markdown",
   "metadata": {},
   "source": [
    "Lets shuffle the data , create two sets train and test and check the score.  \n",
    "No need to shuffle explicitly, sklearn train_test_spli does shuffle by default"
   ]
  },
  {
   "cell_type": "code",
   "execution_count": 62,
   "metadata": {},
   "outputs": [],
   "source": [
    "#y = train.target\n",
    "#X = train.drop(['target'], axis=1)"
   ]
  },
  {
   "cell_type": "code",
   "execution_count": 63,
   "metadata": {},
   "outputs": [],
   "source": [
    "#X_train, X_test, y_train, y_test = train_test_split(X, y, test_size=0.2)"
   ]
  },
  {
   "cell_type": "code",
   "execution_count": 64,
   "metadata": {},
   "outputs": [],
   "source": [
    "#model = XGBClassifier()"
   ]
  },
  {
   "cell_type": "code",
   "execution_count": 65,
   "metadata": {},
   "outputs": [
    {
     "data": {
      "text/plain": [
       "XGBClassifier(base_score=0.5, booster='gbtree', colsample_bylevel=1,\n",
       "              colsample_bynode=1, colsample_bytree=1, gamma=0,\n",
       "              learning_rate=0.1, max_delta_step=0, max_depth=3,\n",
       "              min_child_weight=1, missing=None, n_estimators=100, n_jobs=1,\n",
       "              nthread=None, objective='binary:logistic', random_state=0,\n",
       "              reg_alpha=0, reg_lambda=1, scale_pos_weight=1, seed=None,\n",
       "              silent=None, subsample=1, verbosity=1)"
      ]
     },
     "execution_count": 65,
     "metadata": {},
     "output_type": "execute_result"
    }
   ],
   "source": [
    "#model.fit(X_train.astype(float),y_train)"
   ]
  },
  {
   "cell_type": "code",
   "execution_count": 66,
   "metadata": {},
   "outputs": [],
   "source": [
    "#y_pred = model.predict(X_test.astype(float))\n",
    "#predictions = [round(value) for value in y_pred]"
   ]
  },
  {
   "cell_type": "code",
   "execution_count": 67,
   "metadata": {},
   "outputs": [
    {
     "name": "stdout",
     "output_type": "stream",
     "text": [
      "Accuracy: 90.27%\n"
     ]
    }
   ],
   "source": [
    "accuracy = accuracy_score(y_test, predictions)\n",
    "print(\"Accuracy: %.2f%%\" % (accuracy * 100.0))"
   ]
  },
  {
   "cell_type": "code",
   "execution_count": 68,
   "metadata": {},
   "outputs": [],
   "source": [
    "# what is the accuracy score on train data itself ?\n",
    "y_pred_on_train = model.predict(X_train.astype(float))\n",
    "predictions_onTrain = [round(value) for value in y_pred_on_train]\n"
   ]
  },
  {
   "cell_type": "code",
   "execution_count": 69,
   "metadata": {},
   "outputs": [
    {
     "name": "stdout",
     "output_type": "stream",
     "text": [
      "accuracy_onTrain: 90.91%\n"
     ]
    }
   ],
   "source": [
    "accuracy_onTrain = accuracy_score(y_train, predictions_onTrain)\n",
    "print(\"accuracy_onTrain: %.2f%%\" % (accuracy_onTrain * 100.0))"
   ]
  },
  {
   "cell_type": "markdown",
   "metadata": {},
   "source": [
    "lets do to submit our model on test data set"
   ]
  },
  {
   "cell_type": "code",
   "execution_count": 23,
   "metadata": {},
   "outputs": [
    {
     "name": "stderr",
     "output_type": "stream",
     "text": [
      "/usr/local/lib/python3.7/dist-packages/IPython/core/interactiveshell.py:3049: DtypeWarning: Columns (700,731,740,752,761,789,811,820,829,841,850) have mixed types. Specify dtype option on import or set low_memory=False.\n",
      "  interactivity=interactivity, compiler=compiler, result=result)\n"
     ]
    }
   ],
   "source": [
    "test_data=train=pd.read_csv('./DataSet/Test.csv')"
   ]
  },
  {
   "cell_type": "code",
   "execution_count": 24,
   "metadata": {},
   "outputs": [
    {
     "data": {
      "text/html": [
       "<div>\n",
       "<style scoped>\n",
       "    .dataframe tbody tr th:only-of-type {\n",
       "        vertical-align: middle;\n",
       "    }\n",
       "\n",
       "    .dataframe tbody tr th {\n",
       "        vertical-align: top;\n",
       "    }\n",
       "\n",
       "    .dataframe thead th {\n",
       "        text-align: right;\n",
       "    }\n",
       "</style>\n",
       "<table border=\"1\" class=\"dataframe\">\n",
       "  <thead>\n",
       "    <tr style=\"text-align: right;\">\n",
       "      <th></th>\n",
       "      <th>Col1</th>\n",
       "      <th>Col3</th>\n",
       "      <th>Col4</th>\n",
       "      <th>Col5</th>\n",
       "      <th>Col6</th>\n",
       "      <th>Col7</th>\n",
       "      <th>Col8</th>\n",
       "      <th>Col9</th>\n",
       "      <th>Col10</th>\n",
       "      <th>Col11</th>\n",
       "      <th>...</th>\n",
       "      <th>Col2388</th>\n",
       "      <th>Col2389</th>\n",
       "      <th>Col2390</th>\n",
       "      <th>Col2391</th>\n",
       "      <th>Col2392</th>\n",
       "      <th>Col2393</th>\n",
       "      <th>Col2394</th>\n",
       "      <th>Col2395</th>\n",
       "      <th>Col2396</th>\n",
       "      <th>Col2397</th>\n",
       "    </tr>\n",
       "  </thead>\n",
       "  <tbody>\n",
       "    <tr>\n",
       "      <th>0</th>\n",
       "      <td>RIGD58ZWD</td>\n",
       "      <td>8.167140e+04</td>\n",
       "      <td>8.614542e+04</td>\n",
       "      <td>7.532296e+04</td>\n",
       "      <td>7.532296e+04</td>\n",
       "      <td>1.125174e+05</td>\n",
       "      <td>1.002778e+05</td>\n",
       "      <td>2.038915e+04</td>\n",
       "      <td>3.053853e+04</td>\n",
       "      <td>8.395911e+04</td>\n",
       "      <td>...</td>\n",
       "      <td>0</td>\n",
       "      <td>0</td>\n",
       "      <td>0</td>\n",
       "      <td>0</td>\n",
       "      <td>44.0</td>\n",
       "      <td>44.0</td>\n",
       "      <td>23.0</td>\n",
       "      <td>41.0</td>\n",
       "      <td>41.0</td>\n",
       "      <td>36.0</td>\n",
       "    </tr>\n",
       "    <tr>\n",
       "      <th>1</th>\n",
       "      <td>RIH660YDS</td>\n",
       "      <td>-1.362824e+07</td>\n",
       "      <td>-4.493043e+06</td>\n",
       "      <td>-3.777257e+06</td>\n",
       "      <td>-4.493043e+06</td>\n",
       "      <td>-4.749764e+06</td>\n",
       "      <td>-4.749764e+06</td>\n",
       "      <td>1.147556e+07</td>\n",
       "      <td>1.147556e+07</td>\n",
       "      <td>1.272055e+07</td>\n",
       "      <td>...</td>\n",
       "      <td>1</td>\n",
       "      <td>1</td>\n",
       "      <td>2</td>\n",
       "      <td>2</td>\n",
       "      <td>1234.0</td>\n",
       "      <td>1234.0</td>\n",
       "      <td>680.0</td>\n",
       "      <td>154.0</td>\n",
       "      <td>153.0</td>\n",
       "      <td>86.0</td>\n",
       "    </tr>\n",
       "    <tr>\n",
       "      <th>2</th>\n",
       "      <td>RIH660Q96</td>\n",
       "      <td>1.302700e+06</td>\n",
       "      <td>1.341449e+06</td>\n",
       "      <td>1.240085e+06</td>\n",
       "      <td>1.341449e+06</td>\n",
       "      <td>1.477503e+06</td>\n",
       "      <td>1.477503e+06</td>\n",
       "      <td>3.904086e+05</td>\n",
       "      <td>3.904086e+05</td>\n",
       "      <td>4.979106e+05</td>\n",
       "      <td>...</td>\n",
       "      <td>0</td>\n",
       "      <td>0</td>\n",
       "      <td>0</td>\n",
       "      <td>0</td>\n",
       "      <td>33.0</td>\n",
       "      <td>24.0</td>\n",
       "      <td>19.0</td>\n",
       "      <td>3.0</td>\n",
       "      <td>1.0</td>\n",
       "      <td>1.0</td>\n",
       "    </tr>\n",
       "    <tr>\n",
       "      <th>3</th>\n",
       "      <td>RIYDO15W1</td>\n",
       "      <td>1.932258e+05</td>\n",
       "      <td>1.454433e+05</td>\n",
       "      <td>1.929148e+05</td>\n",
       "      <td>1.454433e+05</td>\n",
       "      <td>1.318250e+04</td>\n",
       "      <td>1.318250e+04</td>\n",
       "      <td>8.650108e+04</td>\n",
       "      <td>8.650108e+04</td>\n",
       "      <td>5.896693e+03</td>\n",
       "      <td>...</td>\n",
       "      <td>0</td>\n",
       "      <td>0</td>\n",
       "      <td>0</td>\n",
       "      <td>0</td>\n",
       "      <td>8.0</td>\n",
       "      <td>8.0</td>\n",
       "      <td>3.0</td>\n",
       "      <td>7.0</td>\n",
       "      <td>7.0</td>\n",
       "      <td>3.0</td>\n",
       "    </tr>\n",
       "    <tr>\n",
       "      <th>4</th>\n",
       "      <td>RIYBGC1ZD</td>\n",
       "      <td>3.913385e+05</td>\n",
       "      <td>1.987337e+05</td>\n",
       "      <td>1.703432e+05</td>\n",
       "      <td>1.987337e+05</td>\n",
       "      <td>3.046536e+05</td>\n",
       "      <td>3.046536e+05</td>\n",
       "      <td>2.528307e+05</td>\n",
       "      <td>2.528307e+05</td>\n",
       "      <td>3.034449e+05</td>\n",
       "      <td>...</td>\n",
       "      <td>0</td>\n",
       "      <td>0</td>\n",
       "      <td>0</td>\n",
       "      <td>0</td>\n",
       "      <td>7.0</td>\n",
       "      <td>7.0</td>\n",
       "      <td>7.0</td>\n",
       "      <td>6.0</td>\n",
       "      <td>6.0</td>\n",
       "      <td>5.0</td>\n",
       "    </tr>\n",
       "  </tbody>\n",
       "</table>\n",
       "<p>5 rows × 2394 columns</p>\n",
       "</div>"
      ],
      "text/plain": [
       "        Col1          Col3          Col4          Col5          Col6  \\\n",
       "0  RIGD58ZWD  8.167140e+04  8.614542e+04  7.532296e+04  7.532296e+04   \n",
       "1  RIH660YDS -1.362824e+07 -4.493043e+06 -3.777257e+06 -4.493043e+06   \n",
       "2  RIH660Q96  1.302700e+06  1.341449e+06  1.240085e+06  1.341449e+06   \n",
       "3  RIYDO15W1  1.932258e+05  1.454433e+05  1.929148e+05  1.454433e+05   \n",
       "4  RIYBGC1ZD  3.913385e+05  1.987337e+05  1.703432e+05  1.987337e+05   \n",
       "\n",
       "           Col7          Col8          Col9         Col10         Col11  ...  \\\n",
       "0  1.125174e+05  1.002778e+05  2.038915e+04  3.053853e+04  8.395911e+04  ...   \n",
       "1 -4.749764e+06 -4.749764e+06  1.147556e+07  1.147556e+07  1.272055e+07  ...   \n",
       "2  1.477503e+06  1.477503e+06  3.904086e+05  3.904086e+05  4.979106e+05  ...   \n",
       "3  1.318250e+04  1.318250e+04  8.650108e+04  8.650108e+04  5.896693e+03  ...   \n",
       "4  3.046536e+05  3.046536e+05  2.528307e+05  2.528307e+05  3.034449e+05  ...   \n",
       "\n",
       "   Col2388  Col2389  Col2390  Col2391  Col2392  Col2393  Col2394  Col2395  \\\n",
       "0        0        0        0        0     44.0     44.0     23.0     41.0   \n",
       "1        1        1        2        2   1234.0   1234.0    680.0    154.0   \n",
       "2        0        0        0        0     33.0     24.0     19.0      3.0   \n",
       "3        0        0        0        0      8.0      8.0      3.0      7.0   \n",
       "4        0        0        0        0      7.0      7.0      7.0      6.0   \n",
       "\n",
       "   Col2396  Col2397  \n",
       "0     41.0     36.0  \n",
       "1    153.0     86.0  \n",
       "2      1.0      1.0  \n",
       "3      7.0      3.0  \n",
       "4      6.0      5.0  \n",
       "\n",
       "[5 rows x 2394 columns]"
      ]
     },
     "execution_count": 24,
     "metadata": {},
     "output_type": "execute_result"
    }
   ],
   "source": [
    "test_data.head(5)"
   ]
  },
  {
   "cell_type": "code",
   "execution_count": 25,
   "metadata": {},
   "outputs": [],
   "source": [
    "# keep the col1 separately\n",
    "col1_test=test_data['Col1']"
   ]
  },
  {
   "cell_type": "code",
   "execution_count": 26,
   "metadata": {},
   "outputs": [],
   "source": [
    "train_filtered_columns_list=list(train_filtered_columns)"
   ]
  },
  {
   "cell_type": "code",
   "execution_count": 27,
   "metadata": {},
   "outputs": [],
   "source": [
    "# now get only those column that are in train data.\n",
    "test_model= test_data[train_filtered_columns_list]"
   ]
  },
  {
   "cell_type": "code",
   "execution_count": 28,
   "metadata": {},
   "outputs": [
    {
     "data": {
      "text/plain": [
       "(20442, 404)"
      ]
     },
     "execution_count": 28,
     "metadata": {},
     "output_type": "execute_result"
    }
   ],
   "source": [
    "test_model.shape"
   ]
  },
  {
   "cell_type": "code",
   "execution_count": 29,
   "metadata": {},
   "outputs": [
    {
     "data": {
      "text/plain": [
       "(17521, 404)"
      ]
     },
     "execution_count": 29,
     "metadata": {},
     "output_type": "execute_result"
    }
   ],
   "source": [
    "X.shape"
   ]
  },
  {
   "cell_type": "code",
   "execution_count": 30,
   "metadata": {},
   "outputs": [],
   "source": [
    "model = XGBClassifier()"
   ]
  },
  {
   "cell_type": "code",
   "execution_count": 31,
   "metadata": {},
   "outputs": [
    {
     "data": {
      "text/plain": [
       "XGBClassifier(base_score=0.5, booster='gbtree', colsample_bylevel=1,\n",
       "              colsample_bynode=1, colsample_bytree=1, gamma=0,\n",
       "              learning_rate=0.1, max_delta_step=0, max_depth=3,\n",
       "              min_child_weight=1, missing=None, n_estimators=100, n_jobs=1,\n",
       "              nthread=None, objective='binary:logistic', random_state=0,\n",
       "              reg_alpha=0, reg_lambda=1, scale_pos_weight=1, seed=None,\n",
       "              silent=None, subsample=1, verbosity=1)"
      ]
     },
     "execution_count": 31,
     "metadata": {},
     "output_type": "execute_result"
    }
   ],
   "source": [
    "model.fit(X.astype(float),y)"
   ]
  },
  {
   "cell_type": "code",
   "execution_count": 32,
   "metadata": {},
   "outputs": [],
   "source": [
    "y_pred = model.predict(test_model.astype(float))"
   ]
  },
  {
   "cell_type": "code",
   "execution_count": 188,
   "metadata": {},
   "outputs": [],
   "source": [
    "#join col1_test and y_pred"
   ]
  },
  {
   "cell_type": "code",
   "execution_count": 33,
   "metadata": {},
   "outputs": [],
   "source": [
    "test_data['traget']=y_pred"
   ]
  },
  {
   "cell_type": "code",
   "execution_count": 34,
   "metadata": {},
   "outputs": [
    {
     "data": {
      "text/plain": [
       "array([0, 1])"
      ]
     },
     "execution_count": 34,
     "metadata": {},
     "output_type": "execute_result"
    }
   ],
   "source": [
    "test_data.traget.unique()"
   ]
  },
  {
   "cell_type": "code",
   "execution_count": 35,
   "metadata": {},
   "outputs": [],
   "source": [
    "test_results_to_submit=pd.DataFrame(columns={'Col1', 'Col2'})\n",
    "test_results_to_submit[['Col1', 'Col2']] = test_data[['Col1', 'traget']]"
   ]
  },
  {
   "cell_type": "code",
   "execution_count": 36,
   "metadata": {},
   "outputs": [],
   "source": [
    "test_results_to_submit.to_csv(\"prediction_to_submit3.csv\")"
   ]
  },
  {
   "cell_type": "code",
   "execution_count": null,
   "metadata": {},
   "outputs": [],
   "source": []
  }
 ],
 "metadata": {
  "kernelspec": {
   "display_name": "Python 3",
   "language": "python",
   "name": "python3"
  },
  "language_info": {
   "codemirror_mode": {
    "name": "ipython",
    "version": 3
   },
   "file_extension": ".py",
   "mimetype": "text/x-python",
   "name": "python",
   "nbconvert_exporter": "python",
   "pygments_lexer": "ipython3",
   "version": "3.7.3"
  }
 },
 "nbformat": 4,
 "nbformat_minor": 2
}
